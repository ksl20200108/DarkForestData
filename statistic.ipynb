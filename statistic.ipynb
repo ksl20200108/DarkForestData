{
 "cells": [
  {
   "cell_type": "markdown",
   "metadata": {},
   "source": [
    "### Read and concatenate"
   ]
  },
  {
   "cell_type": "code",
   "execution_count": 154,
   "metadata": {},
   "outputs": [
    {
     "data": {
      "text/plain": [
       "(113375, 11)"
      ]
     },
     "execution_count": 154,
     "metadata": {},
     "output_type": "execute_result"
    }
   ],
   "source": [
    "import pandas as pd\n",
    "import seaborn as sns\n",
    "import numpy as np\n",
    "\n",
    "file_range = 6\n",
    "data_list = []\n",
    "for i in range(1, file_range + 1):\n",
    "    data_list.append(pd.read_csv('./' + str(i) + '.csv'))\n",
    "data = pd.concat(data_list, axis=0, ignore_index=True)\n",
    "data.shape"
   ]
  },
  {
   "cell_type": "markdown",
   "metadata": {},
   "source": [
    "### Have a look at the data"
   ]
  },
  {
   "cell_type": "code",
   "execution_count": 155,
   "metadata": {},
   "outputs": [
    {
     "data": {
      "text/html": [
       "<div>\n",
       "<style scoped>\n",
       "    .dataframe tbody tr th:only-of-type {\n",
       "        vertical-align: middle;\n",
       "    }\n",
       "\n",
       "    .dataframe tbody tr th {\n",
       "        vertical-align: top;\n",
       "    }\n",
       "\n",
       "    .dataframe thead th {\n",
       "        text-align: right;\n",
       "    }\n",
       "</style>\n",
       "<table border=\"1\" class=\"dataframe\">\n",
       "  <thead>\n",
       "    <tr style=\"text-align: right;\">\n",
       "      <th></th>\n",
       "      <th>Unnamed: 0</th>\n",
       "      <th>to</th>\n",
       "      <th>from</th>\n",
       "      <th>function</th>\n",
       "      <th>time</th>\n",
       "      <th>params</th>\n",
       "      <th>blockNumber</th>\n",
       "      <th>type</th>\n",
       "      <th>value</th>\n",
       "      <th>gasPrice</th>\n",
       "      <th>gasUsed</th>\n",
       "    </tr>\n",
       "  </thead>\n",
       "  <tbody>\n",
       "    <tr>\n",
       "      <th>0</th>\n",
       "      <td>0</td>\n",
       "      <td>0x7d6F639f3690E1AAB71345Bd4eec2570D376A4D2</td>\n",
       "      <td>0x807e4ddF6b0aA08c8402ED8515131Fb383818dd2</td>\n",
       "      <td>withdrawSilver</td>\n",
       "      <td>1649381595</td>\n",
       "      <td>[{'name': 'locationId', 'value': '141315957037...</td>\n",
       "      <td>21524153</td>\n",
       "      <td>2</td>\n",
       "      <td>{'type': 'BigNumber', 'hex': '0x00'}</td>\n",
       "      <td>{'type': 'BigNumber', 'hex': '0x012a05f200'}</td>\n",
       "      <td>{'type': 'BigNumber', 'hex': '0x09d574'}</td>\n",
       "    </tr>\n",
       "    <tr>\n",
       "      <th>1</th>\n",
       "      <td>1</td>\n",
       "      <td>0x7d6F639f3690E1AAB71345Bd4eec2570D376A4D2</td>\n",
       "      <td>0x807e4ddF6b0aA08c8402ED8515131Fb383818dd2</td>\n",
       "      <td>withdrawSilver</td>\n",
       "      <td>1649381595</td>\n",
       "      <td>[{'name': 'locationId', 'value': '182842415225...</td>\n",
       "      <td>21524153</td>\n",
       "      <td>2</td>\n",
       "      <td>{'type': 'BigNumber', 'hex': '0x00'}</td>\n",
       "      <td>{'type': 'BigNumber', 'hex': '0x012a05f200'}</td>\n",
       "      <td>{'type': 'BigNumber', 'hex': '0x09d574'}</td>\n",
       "    </tr>\n",
       "    <tr>\n",
       "      <th>2</th>\n",
       "      <td>2</td>\n",
       "      <td>0x7d6F639f3690E1AAB71345Bd4eec2570D376A4D2</td>\n",
       "      <td>0x807e4ddF6b0aA08c8402ED8515131Fb383818dd2</td>\n",
       "      <td>withdrawSilver</td>\n",
       "      <td>1649381585</td>\n",
       "      <td>[{'name': 'locationId', 'value': '622855675190...</td>\n",
       "      <td>21524151</td>\n",
       "      <td>2</td>\n",
       "      <td>{'type': 'BigNumber', 'hex': '0x00'}</td>\n",
       "      <td>{'type': 'BigNumber', 'hex': '0x012a05f200'}</td>\n",
       "      <td>{'type': 'BigNumber', 'hex': '0x0be228'}</td>\n",
       "    </tr>\n",
       "    <tr>\n",
       "      <th>3</th>\n",
       "      <td>3</td>\n",
       "      <td>0x7d6F639f3690E1AAB71345Bd4eec2570D376A4D2</td>\n",
       "      <td>0x807e4ddF6b0aA08c8402ED8515131Fb383818dd2</td>\n",
       "      <td>withdrawSilver</td>\n",
       "      <td>1649381580</td>\n",
       "      <td>[{'name': 'locationId', 'value': '181658818438...</td>\n",
       "      <td>21524150</td>\n",
       "      <td>2</td>\n",
       "      <td>{'type': 'BigNumber', 'hex': '0x00'}</td>\n",
       "      <td>{'type': 'BigNumber', 'hex': '0x012a05f200'}</td>\n",
       "      <td>{'type': 'BigNumber', 'hex': '0x11311a'}</td>\n",
       "    </tr>\n",
       "    <tr>\n",
       "      <th>4</th>\n",
       "      <td>4</td>\n",
       "      <td>0x7d6F639f3690E1AAB71345Bd4eec2570D376A4D2</td>\n",
       "      <td>0x807e4ddF6b0aA08c8402ED8515131Fb383818dd2</td>\n",
       "      <td>withdrawSilver</td>\n",
       "      <td>1649381580</td>\n",
       "      <td>[{'name': 'locationId', 'value': '171538053463...</td>\n",
       "      <td>21524150</td>\n",
       "      <td>2</td>\n",
       "      <td>{'type': 'BigNumber', 'hex': '0x00'}</td>\n",
       "      <td>{'type': 'BigNumber', 'hex': '0x012a05f200'}</td>\n",
       "      <td>{'type': 'BigNumber', 'hex': '0x11311a'}</td>\n",
       "    </tr>\n",
       "  </tbody>\n",
       "</table>\n",
       "</div>"
      ],
      "text/plain": [
       "   Unnamed: 0                                          to  \\\n",
       "0           0  0x7d6F639f3690E1AAB71345Bd4eec2570D376A4D2   \n",
       "1           1  0x7d6F639f3690E1AAB71345Bd4eec2570D376A4D2   \n",
       "2           2  0x7d6F639f3690E1AAB71345Bd4eec2570D376A4D2   \n",
       "3           3  0x7d6F639f3690E1AAB71345Bd4eec2570D376A4D2   \n",
       "4           4  0x7d6F639f3690E1AAB71345Bd4eec2570D376A4D2   \n",
       "\n",
       "                                         from        function        time  \\\n",
       "0  0x807e4ddF6b0aA08c8402ED8515131Fb383818dd2  withdrawSilver  1649381595   \n",
       "1  0x807e4ddF6b0aA08c8402ED8515131Fb383818dd2  withdrawSilver  1649381595   \n",
       "2  0x807e4ddF6b0aA08c8402ED8515131Fb383818dd2  withdrawSilver  1649381585   \n",
       "3  0x807e4ddF6b0aA08c8402ED8515131Fb383818dd2  withdrawSilver  1649381580   \n",
       "4  0x807e4ddF6b0aA08c8402ED8515131Fb383818dd2  withdrawSilver  1649381580   \n",
       "\n",
       "                                              params  blockNumber  type  \\\n",
       "0  [{'name': 'locationId', 'value': '141315957037...     21524153     2   \n",
       "1  [{'name': 'locationId', 'value': '182842415225...     21524153     2   \n",
       "2  [{'name': 'locationId', 'value': '622855675190...     21524151     2   \n",
       "3  [{'name': 'locationId', 'value': '181658818438...     21524150     2   \n",
       "4  [{'name': 'locationId', 'value': '171538053463...     21524150     2   \n",
       "\n",
       "                                  value  \\\n",
       "0  {'type': 'BigNumber', 'hex': '0x00'}   \n",
       "1  {'type': 'BigNumber', 'hex': '0x00'}   \n",
       "2  {'type': 'BigNumber', 'hex': '0x00'}   \n",
       "3  {'type': 'BigNumber', 'hex': '0x00'}   \n",
       "4  {'type': 'BigNumber', 'hex': '0x00'}   \n",
       "\n",
       "                                       gasPrice  \\\n",
       "0  {'type': 'BigNumber', 'hex': '0x012a05f200'}   \n",
       "1  {'type': 'BigNumber', 'hex': '0x012a05f200'}   \n",
       "2  {'type': 'BigNumber', 'hex': '0x012a05f200'}   \n",
       "3  {'type': 'BigNumber', 'hex': '0x012a05f200'}   \n",
       "4  {'type': 'BigNumber', 'hex': '0x012a05f200'}   \n",
       "\n",
       "                                    gasUsed  \n",
       "0  {'type': 'BigNumber', 'hex': '0x09d574'}  \n",
       "1  {'type': 'BigNumber', 'hex': '0x09d574'}  \n",
       "2  {'type': 'BigNumber', 'hex': '0x0be228'}  \n",
       "3  {'type': 'BigNumber', 'hex': '0x11311a'}  \n",
       "4  {'type': 'BigNumber', 'hex': '0x11311a'}  "
      ]
     },
     "execution_count": 155,
     "metadata": {},
     "output_type": "execute_result"
    }
   ],
   "source": [
    "data.head()"
   ]
  },
  {
   "cell_type": "markdown",
   "metadata": {},
   "source": [
    "### Reverse the data"
   ]
  },
  {
   "cell_type": "code",
   "execution_count": 156,
   "metadata": {},
   "outputs": [
    {
     "data": {
      "text/html": [
       "<div>\n",
       "<style scoped>\n",
       "    .dataframe tbody tr th:only-of-type {\n",
       "        vertical-align: middle;\n",
       "    }\n",
       "\n",
       "    .dataframe tbody tr th {\n",
       "        vertical-align: top;\n",
       "    }\n",
       "\n",
       "    .dataframe thead th {\n",
       "        text-align: right;\n",
       "    }\n",
       "</style>\n",
       "<table border=\"1\" class=\"dataframe\">\n",
       "  <thead>\n",
       "    <tr style=\"text-align: right;\">\n",
       "      <th></th>\n",
       "      <th>Unnamed: 0</th>\n",
       "      <th>to</th>\n",
       "      <th>from</th>\n",
       "      <th>function</th>\n",
       "      <th>time</th>\n",
       "      <th>params</th>\n",
       "      <th>blockNumber</th>\n",
       "      <th>type</th>\n",
       "      <th>value</th>\n",
       "      <th>gasPrice</th>\n",
       "      <th>gasUsed</th>\n",
       "    </tr>\n",
       "  </thead>\n",
       "  <tbody>\n",
       "    <tr>\n",
       "      <th>113370</th>\n",
       "      <td>13361</td>\n",
       "      <td>0x06078143f81BaFCB7B5dF588bf2E8247dC8702bE</td>\n",
       "      <td>0xa7EAbcee5D24B5DAE7fFA7Ca2cE3A981921376e5</td>\n",
       "      <td>move</td>\n",
       "      <td>1648978260</td>\n",
       "      <td>[{'name': '_a', 'value': ['5883542376368819459...</td>\n",
       "      <td>21443581</td>\n",
       "      <td>2</td>\n",
       "      <td>{'type': 'BigNumber', 'hex': '0x00'}</td>\n",
       "      <td>{'type': 'BigNumber', 'hex': '0x42c1d800'}</td>\n",
       "      <td>{'type': 'BigNumber', 'hex': '0x58cc51'}</td>\n",
       "    </tr>\n",
       "    <tr>\n",
       "      <th>113371</th>\n",
       "      <td>13362</td>\n",
       "      <td>0x06078143f81BaFCB7B5dF588bf2E8247dC8702bE</td>\n",
       "      <td>0x327fC4EA39d465F674eb9Ff597d83f7852C64F6f</td>\n",
       "      <td>move</td>\n",
       "      <td>1648978255</td>\n",
       "      <td>[{'name': '_a', 'value': ['1018818674467944510...</td>\n",
       "      <td>21443580</td>\n",
       "      <td>2</td>\n",
       "      <td>{'type': 'BigNumber', 'hex': '0x00'}</td>\n",
       "      <td>{'type': 'BigNumber', 'hex': '0xb2d05e00'}</td>\n",
       "      <td>{'type': 'BigNumber', 'hex': '0x2cba3d'}</td>\n",
       "    </tr>\n",
       "    <tr>\n",
       "      <th>113372</th>\n",
       "      <td>13363</td>\n",
       "      <td>0xbCFeFea1e83060DbCEf2Ed0513755D049fDE952C</td>\n",
       "      <td>0xb431eeA857f20FD8C519D6fa49F82C078ddf7bCd</td>\n",
       "      <td>transferFrom</td>\n",
       "      <td>1648978255</td>\n",
       "      <td>[{'name': 'from', 'value': '0x4f56539df5e129db...</td>\n",
       "      <td>21443580</td>\n",
       "      <td>2</td>\n",
       "      <td>{'type': 'BigNumber', 'hex': '0x00'}</td>\n",
       "      <td>{'type': 'BigNumber', 'hex': '0x59682f07'}</td>\n",
       "      <td>{'type': 'BigNumber', 'hex': '0x2cba3d'}</td>\n",
       "    </tr>\n",
       "    <tr>\n",
       "      <th>113373</th>\n",
       "      <td>13364</td>\n",
       "      <td>0x06078143f81BaFCB7B5dF588bf2E8247dC8702bE</td>\n",
       "      <td>0x1694c371B2632F0a2b76E02cd6a07e26e81003c6</td>\n",
       "      <td>prospectPlanet</td>\n",
       "      <td>1648978255</td>\n",
       "      <td>[{'name': 'locationId', 'value': '140817225111...</td>\n",
       "      <td>21443580</td>\n",
       "      <td>2</td>\n",
       "      <td>{'type': 'BigNumber', 'hex': '0x00'}</td>\n",
       "      <td>{'type': 'BigNumber', 'hex': '0x42c1d800'}</td>\n",
       "      <td>{'type': 'BigNumber', 'hex': '0x2cba3d'}</td>\n",
       "    </tr>\n",
       "    <tr>\n",
       "      <th>113374</th>\n",
       "      <td>13365</td>\n",
       "      <td>0x06078143f81BaFCB7B5dF588bf2E8247dC8702bE</td>\n",
       "      <td>0x19e63Ee48e0df0534818398e68AC4c1Fa68177fB</td>\n",
       "      <td>move</td>\n",
       "      <td>1648978255</td>\n",
       "      <td>[{'name': '_a', 'value': ['1885860697480286020...</td>\n",
       "      <td>21443580</td>\n",
       "      <td>2</td>\n",
       "      <td>{'type': 'BigNumber', 'hex': '0x00'}</td>\n",
       "      <td>{'type': 'BigNumber', 'hex': '0x42c1d800'}</td>\n",
       "      <td>{'type': 'BigNumber', 'hex': '0x2cba3d'}</td>\n",
       "    </tr>\n",
       "  </tbody>\n",
       "</table>\n",
       "</div>"
      ],
      "text/plain": [
       "        Unnamed: 0                                          to  \\\n",
       "113370       13361  0x06078143f81BaFCB7B5dF588bf2E8247dC8702bE   \n",
       "113371       13362  0x06078143f81BaFCB7B5dF588bf2E8247dC8702bE   \n",
       "113372       13363  0xbCFeFea1e83060DbCEf2Ed0513755D049fDE952C   \n",
       "113373       13364  0x06078143f81BaFCB7B5dF588bf2E8247dC8702bE   \n",
       "113374       13365  0x06078143f81BaFCB7B5dF588bf2E8247dC8702bE   \n",
       "\n",
       "                                              from        function  \\\n",
       "113370  0xa7EAbcee5D24B5DAE7fFA7Ca2cE3A981921376e5            move   \n",
       "113371  0x327fC4EA39d465F674eb9Ff597d83f7852C64F6f            move   \n",
       "113372  0xb431eeA857f20FD8C519D6fa49F82C078ddf7bCd    transferFrom   \n",
       "113373  0x1694c371B2632F0a2b76E02cd6a07e26e81003c6  prospectPlanet   \n",
       "113374  0x19e63Ee48e0df0534818398e68AC4c1Fa68177fB            move   \n",
       "\n",
       "              time                                             params  \\\n",
       "113370  1648978260  [{'name': '_a', 'value': ['5883542376368819459...   \n",
       "113371  1648978255  [{'name': '_a', 'value': ['1018818674467944510...   \n",
       "113372  1648978255  [{'name': 'from', 'value': '0x4f56539df5e129db...   \n",
       "113373  1648978255  [{'name': 'locationId', 'value': '140817225111...   \n",
       "113374  1648978255  [{'name': '_a', 'value': ['1885860697480286020...   \n",
       "\n",
       "        blockNumber  type                                 value  \\\n",
       "113370     21443581     2  {'type': 'BigNumber', 'hex': '0x00'}   \n",
       "113371     21443580     2  {'type': 'BigNumber', 'hex': '0x00'}   \n",
       "113372     21443580     2  {'type': 'BigNumber', 'hex': '0x00'}   \n",
       "113373     21443580     2  {'type': 'BigNumber', 'hex': '0x00'}   \n",
       "113374     21443580     2  {'type': 'BigNumber', 'hex': '0x00'}   \n",
       "\n",
       "                                          gasPrice  \\\n",
       "113370  {'type': 'BigNumber', 'hex': '0x42c1d800'}   \n",
       "113371  {'type': 'BigNumber', 'hex': '0xb2d05e00'}   \n",
       "113372  {'type': 'BigNumber', 'hex': '0x59682f07'}   \n",
       "113373  {'type': 'BigNumber', 'hex': '0x42c1d800'}   \n",
       "113374  {'type': 'BigNumber', 'hex': '0x42c1d800'}   \n",
       "\n",
       "                                         gasUsed  \n",
       "113370  {'type': 'BigNumber', 'hex': '0x58cc51'}  \n",
       "113371  {'type': 'BigNumber', 'hex': '0x2cba3d'}  \n",
       "113372  {'type': 'BigNumber', 'hex': '0x2cba3d'}  \n",
       "113373  {'type': 'BigNumber', 'hex': '0x2cba3d'}  \n",
       "113374  {'type': 'BigNumber', 'hex': '0x2cba3d'}  "
      ]
     },
     "execution_count": 156,
     "metadata": {},
     "output_type": "execute_result"
    }
   ],
   "source": [
    "data.tail()"
   ]
  },
  {
   "cell_type": "code",
   "execution_count": 157,
   "metadata": {},
   "outputs": [],
   "source": [
    "data = data.reindex(index=data.index[::-1])\n",
    "data = data.reset_index(drop=True)"
   ]
  },
  {
   "cell_type": "code",
   "execution_count": 158,
   "metadata": {},
   "outputs": [
    {
     "data": {
      "text/html": [
       "<div>\n",
       "<style scoped>\n",
       "    .dataframe tbody tr th:only-of-type {\n",
       "        vertical-align: middle;\n",
       "    }\n",
       "\n",
       "    .dataframe tbody tr th {\n",
       "        vertical-align: top;\n",
       "    }\n",
       "\n",
       "    .dataframe thead th {\n",
       "        text-align: right;\n",
       "    }\n",
       "</style>\n",
       "<table border=\"1\" class=\"dataframe\">\n",
       "  <thead>\n",
       "    <tr style=\"text-align: right;\">\n",
       "      <th></th>\n",
       "      <th>Unnamed: 0</th>\n",
       "      <th>to</th>\n",
       "      <th>from</th>\n",
       "      <th>function</th>\n",
       "      <th>time</th>\n",
       "      <th>params</th>\n",
       "      <th>blockNumber</th>\n",
       "      <th>type</th>\n",
       "      <th>value</th>\n",
       "      <th>gasPrice</th>\n",
       "      <th>gasUsed</th>\n",
       "    </tr>\n",
       "  </thead>\n",
       "  <tbody>\n",
       "    <tr>\n",
       "      <th>0</th>\n",
       "      <td>13365</td>\n",
       "      <td>0x06078143f81BaFCB7B5dF588bf2E8247dC8702bE</td>\n",
       "      <td>0x19e63Ee48e0df0534818398e68AC4c1Fa68177fB</td>\n",
       "      <td>move</td>\n",
       "      <td>1648978255</td>\n",
       "      <td>[{'name': '_a', 'value': ['1885860697480286020...</td>\n",
       "      <td>21443580</td>\n",
       "      <td>2</td>\n",
       "      <td>{'type': 'BigNumber', 'hex': '0x00'}</td>\n",
       "      <td>{'type': 'BigNumber', 'hex': '0x42c1d800'}</td>\n",
       "      <td>{'type': 'BigNumber', 'hex': '0x2cba3d'}</td>\n",
       "    </tr>\n",
       "    <tr>\n",
       "      <th>1</th>\n",
       "      <td>13364</td>\n",
       "      <td>0x06078143f81BaFCB7B5dF588bf2E8247dC8702bE</td>\n",
       "      <td>0x1694c371B2632F0a2b76E02cd6a07e26e81003c6</td>\n",
       "      <td>prospectPlanet</td>\n",
       "      <td>1648978255</td>\n",
       "      <td>[{'name': 'locationId', 'value': '140817225111...</td>\n",
       "      <td>21443580</td>\n",
       "      <td>2</td>\n",
       "      <td>{'type': 'BigNumber', 'hex': '0x00'}</td>\n",
       "      <td>{'type': 'BigNumber', 'hex': '0x42c1d800'}</td>\n",
       "      <td>{'type': 'BigNumber', 'hex': '0x2cba3d'}</td>\n",
       "    </tr>\n",
       "    <tr>\n",
       "      <th>2</th>\n",
       "      <td>13363</td>\n",
       "      <td>0xbCFeFea1e83060DbCEf2Ed0513755D049fDE952C</td>\n",
       "      <td>0xb431eeA857f20FD8C519D6fa49F82C078ddf7bCd</td>\n",
       "      <td>transferFrom</td>\n",
       "      <td>1648978255</td>\n",
       "      <td>[{'name': 'from', 'value': '0x4f56539df5e129db...</td>\n",
       "      <td>21443580</td>\n",
       "      <td>2</td>\n",
       "      <td>{'type': 'BigNumber', 'hex': '0x00'}</td>\n",
       "      <td>{'type': 'BigNumber', 'hex': '0x59682f07'}</td>\n",
       "      <td>{'type': 'BigNumber', 'hex': '0x2cba3d'}</td>\n",
       "    </tr>\n",
       "    <tr>\n",
       "      <th>3</th>\n",
       "      <td>13362</td>\n",
       "      <td>0x06078143f81BaFCB7B5dF588bf2E8247dC8702bE</td>\n",
       "      <td>0x327fC4EA39d465F674eb9Ff597d83f7852C64F6f</td>\n",
       "      <td>move</td>\n",
       "      <td>1648978255</td>\n",
       "      <td>[{'name': '_a', 'value': ['1018818674467944510...</td>\n",
       "      <td>21443580</td>\n",
       "      <td>2</td>\n",
       "      <td>{'type': 'BigNumber', 'hex': '0x00'}</td>\n",
       "      <td>{'type': 'BigNumber', 'hex': '0xb2d05e00'}</td>\n",
       "      <td>{'type': 'BigNumber', 'hex': '0x2cba3d'}</td>\n",
       "    </tr>\n",
       "    <tr>\n",
       "      <th>4</th>\n",
       "      <td>13361</td>\n",
       "      <td>0x06078143f81BaFCB7B5dF588bf2E8247dC8702bE</td>\n",
       "      <td>0xa7EAbcee5D24B5DAE7fFA7Ca2cE3A981921376e5</td>\n",
       "      <td>move</td>\n",
       "      <td>1648978260</td>\n",
       "      <td>[{'name': '_a', 'value': ['5883542376368819459...</td>\n",
       "      <td>21443581</td>\n",
       "      <td>2</td>\n",
       "      <td>{'type': 'BigNumber', 'hex': '0x00'}</td>\n",
       "      <td>{'type': 'BigNumber', 'hex': '0x42c1d800'}</td>\n",
       "      <td>{'type': 'BigNumber', 'hex': '0x58cc51'}</td>\n",
       "    </tr>\n",
       "  </tbody>\n",
       "</table>\n",
       "</div>"
      ],
      "text/plain": [
       "   Unnamed: 0                                          to  \\\n",
       "0       13365  0x06078143f81BaFCB7B5dF588bf2E8247dC8702bE   \n",
       "1       13364  0x06078143f81BaFCB7B5dF588bf2E8247dC8702bE   \n",
       "2       13363  0xbCFeFea1e83060DbCEf2Ed0513755D049fDE952C   \n",
       "3       13362  0x06078143f81BaFCB7B5dF588bf2E8247dC8702bE   \n",
       "4       13361  0x06078143f81BaFCB7B5dF588bf2E8247dC8702bE   \n",
       "\n",
       "                                         from        function        time  \\\n",
       "0  0x19e63Ee48e0df0534818398e68AC4c1Fa68177fB            move  1648978255   \n",
       "1  0x1694c371B2632F0a2b76E02cd6a07e26e81003c6  prospectPlanet  1648978255   \n",
       "2  0xb431eeA857f20FD8C519D6fa49F82C078ddf7bCd    transferFrom  1648978255   \n",
       "3  0x327fC4EA39d465F674eb9Ff597d83f7852C64F6f            move  1648978255   \n",
       "4  0xa7EAbcee5D24B5DAE7fFA7Ca2cE3A981921376e5            move  1648978260   \n",
       "\n",
       "                                              params  blockNumber  type  \\\n",
       "0  [{'name': '_a', 'value': ['1885860697480286020...     21443580     2   \n",
       "1  [{'name': 'locationId', 'value': '140817225111...     21443580     2   \n",
       "2  [{'name': 'from', 'value': '0x4f56539df5e129db...     21443580     2   \n",
       "3  [{'name': '_a', 'value': ['1018818674467944510...     21443580     2   \n",
       "4  [{'name': '_a', 'value': ['5883542376368819459...     21443581     2   \n",
       "\n",
       "                                  value  \\\n",
       "0  {'type': 'BigNumber', 'hex': '0x00'}   \n",
       "1  {'type': 'BigNumber', 'hex': '0x00'}   \n",
       "2  {'type': 'BigNumber', 'hex': '0x00'}   \n",
       "3  {'type': 'BigNumber', 'hex': '0x00'}   \n",
       "4  {'type': 'BigNumber', 'hex': '0x00'}   \n",
       "\n",
       "                                     gasPrice  \\\n",
       "0  {'type': 'BigNumber', 'hex': '0x42c1d800'}   \n",
       "1  {'type': 'BigNumber', 'hex': '0x42c1d800'}   \n",
       "2  {'type': 'BigNumber', 'hex': '0x59682f07'}   \n",
       "3  {'type': 'BigNumber', 'hex': '0xb2d05e00'}   \n",
       "4  {'type': 'BigNumber', 'hex': '0x42c1d800'}   \n",
       "\n",
       "                                    gasUsed  \n",
       "0  {'type': 'BigNumber', 'hex': '0x2cba3d'}  \n",
       "1  {'type': 'BigNumber', 'hex': '0x2cba3d'}  \n",
       "2  {'type': 'BigNumber', 'hex': '0x2cba3d'}  \n",
       "3  {'type': 'BigNumber', 'hex': '0x2cba3d'}  \n",
       "4  {'type': 'BigNumber', 'hex': '0x58cc51'}  "
      ]
     },
     "execution_count": 158,
     "metadata": {},
     "output_type": "execute_result"
    }
   ],
   "source": [
    "data.head()"
   ]
  },
  {
   "cell_type": "markdown",
   "metadata": {},
   "source": [
    "#### Check unique type"
   ]
  },
  {
   "cell_type": "code",
   "execution_count": 159,
   "metadata": {},
   "outputs": [
    {
     "data": {
      "text/plain": [
       "array([2, 0])"
      ]
     },
     "execution_count": 159,
     "metadata": {},
     "output_type": "execute_result"
    }
   ],
   "source": [
    "data['type'].unique()"
   ]
  },
  {
   "cell_type": "markdown",
   "metadata": {},
   "source": [
    "### Check the unique address"
   ]
  },
  {
   "cell_type": "code",
   "execution_count": 160,
   "metadata": {},
   "outputs": [
    {
     "data": {
      "text/plain": [
       "0x06078143f81BaFCB7B5dF588bf2E8247dC8702bE    96685\n",
       "0x5da117b8aB8b739346F5EdC166789E5aFb1a7145     2054\n",
       "0xDDAfbb505ad214D7b80b1f830fcCc89B60fb7A83     1910\n",
       "0x0fF1A62C3c1E4adFf52A46a317F575D4Dd96082C     1711\n",
       "0xbCFeFea1e83060DbCEf2Ed0513755D049fDE952C     1105\n",
       "0x6A023CCd1ff6F2045C3309768eAd9E68F978f6e1      876\n",
       "Name: to, dtype: int64"
      ]
     },
     "execution_count": 160,
     "metadata": {},
     "output_type": "execute_result"
    }
   ],
   "source": [
    "data['to'].value_counts()[:6]"
   ]
  },
  {
   "cell_type": "code",
   "execution_count": 161,
   "metadata": {},
   "outputs": [
    {
     "data": {
      "text/plain": [
       "0xaba4dB2891dEF3501A953c0F2C549Eaf9B36B1f2    14907\n",
       "0x9446c7235a599e2db49CC8B8a24b8F6339FF0B4a     9447\n",
       "0xfd6E8c3C615Ff3Ba58758E800f595CD5480E0238     8194\n",
       "0xa7EAbcee5D24B5DAE7fFA7Ca2cE3A981921376e5     7760\n",
       "0x19e63Ee48e0df0534818398e68AC4c1Fa68177fB     5584\n",
       "0x568030138D96D2da574e812f74885F15558DA1FD     4767\n",
       "Name: from, dtype: int64"
      ]
     },
     "execution_count": 161,
     "metadata": {},
     "output_type": "execute_result"
    }
   ],
   "source": [
    "data['from'].value_counts()[:6]"
   ]
  },
  {
   "cell_type": "code",
   "execution_count": 162,
   "metadata": {},
   "outputs": [
    {
     "data": {
      "text/plain": [
       "False    113375\n",
       "dtype: int64"
      ]
     },
     "execution_count": 162,
     "metadata": {},
     "output_type": "execute_result"
    }
   ],
   "source": [
    "(data['to'] == data['from']).value_counts()"
   ]
  },
  {
   "cell_type": "markdown",
   "metadata": {},
   "source": [
    "In other words, the \"to\" address never appears in \"from\" address. Then we can infer that:\n",
    "\n",
    "to: contract_address\n",
    "\n",
    "from: player_wallet_address"
   ]
  },
  {
   "cell_type": "markdown",
   "metadata": {},
   "source": [
    "### Check the called function among 21483 transactions"
   ]
  },
  {
   "cell_type": "code",
   "execution_count": 163,
   "metadata": {},
   "outputs": [
    {
     "data": {
      "text/plain": [
       "move                  62003\n",
       "capturePlanet         16128\n",
       "invadePlanet          13119\n",
       "approve                7837\n",
       "upgradePlanet          3858\n",
       "prospectPlanet         1987\n",
       "findArtifact           1887\n",
       "transferFrom           1396\n",
       "withdrawArtifact       1183\n",
       "transferPlanet          957\n",
       "withdrawSilver          856\n",
       "activateArtifact        560\n",
       "setApprovalForAll       467\n",
       "deactivateArtifact      301\n",
       "safeTransferFrom        287\n",
       "depositArtifact         226\n",
       "initializePlayer         68\n",
       "giveSpaceShips           59\n",
       "safeSetOwner             53\n",
       "withdraw                 31\n",
       "transferOwnership        27\n",
       "Name: function, dtype: int64"
      ]
     },
     "execution_count": 163,
     "metadata": {},
     "output_type": "execute_result"
    }
   ],
   "source": [
    "data['function'].value_counts()[:21]"
   ]
  },
  {
   "cell_type": "code",
   "execution_count": 164,
   "metadata": {},
   "outputs": [
    {
     "data": {
      "text/plain": [
       "32"
      ]
     },
     "execution_count": 164,
     "metadata": {},
     "output_type": "execute_result"
    }
   ],
   "source": [
    "len(data['function'].unique())"
   ]
  },
  {
   "cell_type": "code",
   "execution_count": 165,
   "metadata": {},
   "outputs": [
    {
     "data": {
      "text/plain": [
       "array(['move', 'prospectPlanet', 'transferFrom', 'findArtifact',\n",
       "       'capturePlanet', 'invadePlanet', 'upgradePlanet', 'approve',\n",
       "       'withdrawArtifact', 'withdrawSilver', 'safeSetOwner',\n",
       "       'depositArtifact', 'setApprovalForAll', 'activateArtifact',\n",
       "       'deactivateArtifact', 'withdraw', 'safeTransferFrom',\n",
       "       'initializePlayer', 'giveSpaceShips', 'createLobby',\n",
       "       'addToWhitelist', 'transferPlanet', 'revealLocation',\n",
       "       'transferOwnership', 'adminGiveArtifact', 'pause', 'unpause',\n",
       "       'buyHat', 'adminGiveSpaceShip', 'createPlanet', 'addKeys',\n",
       "       'adminUseKey'], dtype=object)"
      ]
     },
     "execution_count": 165,
     "metadata": {},
     "output_type": "execute_result"
    }
   ],
   "source": [
    "data['function'].unique()"
   ]
  },
  {
   "cell_type": "markdown",
   "metadata": {},
   "source": [
    "\"transferArtifact\" is never called -- nobody transfer artifact"
   ]
  },
  {
   "cell_type": "code",
   "execution_count": 166,
   "metadata": {},
   "outputs": [
    {
     "data": {
      "text/plain": [
       "408"
      ]
     },
     "execution_count": 166,
     "metadata": {},
     "output_type": "execute_result"
    }
   ],
   "source": [
    "len(data['to'].unique())"
   ]
  },
  {
   "cell_type": "markdown",
   "metadata": {},
   "source": [
    "### Get the datetime from Unix timestamp"
   ]
  },
  {
   "cell_type": "code",
   "execution_count": 167,
   "metadata": {},
   "outputs": [
    {
     "data": {
      "text/plain": [
       "time.struct_time(tm_year=2022, tm_mon=4, tm_mday=8, tm_hour=1, tm_min=29, tm_sec=50, tm_wday=4, tm_yday=98, tm_isdst=0)"
      ]
     },
     "execution_count": 167,
     "metadata": {},
     "output_type": "execute_result"
    }
   ],
   "source": [
    "import time\n",
    "\n",
    "time.gmtime(1649381390)"
   ]
  },
  {
   "cell_type": "code",
   "execution_count": 168,
   "metadata": {},
   "outputs": [
    {
     "data": {
      "text/plain": [
       "datetime.datetime(2022, 4, 8, 9, 29, 50)"
      ]
     },
     "execution_count": 168,
     "metadata": {},
     "output_type": "execute_result"
    }
   ],
   "source": [
    "import datetime\n",
    "\n",
    "unix_ts = 1649381390\n",
    "datetime.datetime.fromtimestamp(unix_ts)"
   ]
  },
  {
   "cell_type": "code",
   "execution_count": 169,
   "metadata": {},
   "outputs": [
    {
     "data": {
      "text/plain": [
       "datetime.datetime(2022, 4, 8, 9, 18, 35)"
      ]
     },
     "execution_count": 169,
     "metadata": {},
     "output_type": "execute_result"
    }
   ],
   "source": [
    "datetime.datetime.fromtimestamp(1649380715)"
   ]
  },
  {
   "cell_type": "markdown",
   "metadata": {},
   "source": [
    "##### Convert the DataFrame"
   ]
  },
  {
   "cell_type": "code",
   "execution_count": 170,
   "metadata": {},
   "outputs": [
    {
     "data": {
      "text/html": [
       "<div>\n",
       "<style scoped>\n",
       "    .dataframe tbody tr th:only-of-type {\n",
       "        vertical-align: middle;\n",
       "    }\n",
       "\n",
       "    .dataframe tbody tr th {\n",
       "        vertical-align: top;\n",
       "    }\n",
       "\n",
       "    .dataframe thead th {\n",
       "        text-align: right;\n",
       "    }\n",
       "</style>\n",
       "<table border=\"1\" class=\"dataframe\">\n",
       "  <thead>\n",
       "    <tr style=\"text-align: right;\">\n",
       "      <th></th>\n",
       "      <th>Unnamed: 0</th>\n",
       "      <th>to</th>\n",
       "      <th>from</th>\n",
       "      <th>function</th>\n",
       "      <th>time</th>\n",
       "      <th>params</th>\n",
       "      <th>blockNumber</th>\n",
       "      <th>type</th>\n",
       "      <th>value</th>\n",
       "      <th>gasPrice</th>\n",
       "      <th>gasUsed</th>\n",
       "      <th>datetime</th>\n",
       "      <th>date</th>\n",
       "    </tr>\n",
       "  </thead>\n",
       "  <tbody>\n",
       "    <tr>\n",
       "      <th>0</th>\n",
       "      <td>13365</td>\n",
       "      <td>0x06078143f81BaFCB7B5dF588bf2E8247dC8702bE</td>\n",
       "      <td>0x19e63Ee48e0df0534818398e68AC4c1Fa68177fB</td>\n",
       "      <td>move</td>\n",
       "      <td>1648978255</td>\n",
       "      <td>[{'name': '_a', 'value': ['1885860697480286020...</td>\n",
       "      <td>21443580</td>\n",
       "      <td>2</td>\n",
       "      <td>{'type': 'BigNumber', 'hex': '0x00'}</td>\n",
       "      <td>{'type': 'BigNumber', 'hex': '0x42c1d800'}</td>\n",
       "      <td>{'type': 'BigNumber', 'hex': '0x2cba3d'}</td>\n",
       "      <td>2022-04-03 17:30:55</td>\n",
       "      <td>2022-04-03</td>\n",
       "    </tr>\n",
       "    <tr>\n",
       "      <th>1</th>\n",
       "      <td>13364</td>\n",
       "      <td>0x06078143f81BaFCB7B5dF588bf2E8247dC8702bE</td>\n",
       "      <td>0x1694c371B2632F0a2b76E02cd6a07e26e81003c6</td>\n",
       "      <td>prospectPlanet</td>\n",
       "      <td>1648978255</td>\n",
       "      <td>[{'name': 'locationId', 'value': '140817225111...</td>\n",
       "      <td>21443580</td>\n",
       "      <td>2</td>\n",
       "      <td>{'type': 'BigNumber', 'hex': '0x00'}</td>\n",
       "      <td>{'type': 'BigNumber', 'hex': '0x42c1d800'}</td>\n",
       "      <td>{'type': 'BigNumber', 'hex': '0x2cba3d'}</td>\n",
       "      <td>2022-04-03 17:30:55</td>\n",
       "      <td>2022-04-03</td>\n",
       "    </tr>\n",
       "    <tr>\n",
       "      <th>2</th>\n",
       "      <td>13363</td>\n",
       "      <td>0xbCFeFea1e83060DbCEf2Ed0513755D049fDE952C</td>\n",
       "      <td>0xb431eeA857f20FD8C519D6fa49F82C078ddf7bCd</td>\n",
       "      <td>transferFrom</td>\n",
       "      <td>1648978255</td>\n",
       "      <td>[{'name': 'from', 'value': '0x4f56539df5e129db...</td>\n",
       "      <td>21443580</td>\n",
       "      <td>2</td>\n",
       "      <td>{'type': 'BigNumber', 'hex': '0x00'}</td>\n",
       "      <td>{'type': 'BigNumber', 'hex': '0x59682f07'}</td>\n",
       "      <td>{'type': 'BigNumber', 'hex': '0x2cba3d'}</td>\n",
       "      <td>2022-04-03 17:30:55</td>\n",
       "      <td>2022-04-03</td>\n",
       "    </tr>\n",
       "    <tr>\n",
       "      <th>3</th>\n",
       "      <td>13362</td>\n",
       "      <td>0x06078143f81BaFCB7B5dF588bf2E8247dC8702bE</td>\n",
       "      <td>0x327fC4EA39d465F674eb9Ff597d83f7852C64F6f</td>\n",
       "      <td>move</td>\n",
       "      <td>1648978255</td>\n",
       "      <td>[{'name': '_a', 'value': ['1018818674467944510...</td>\n",
       "      <td>21443580</td>\n",
       "      <td>2</td>\n",
       "      <td>{'type': 'BigNumber', 'hex': '0x00'}</td>\n",
       "      <td>{'type': 'BigNumber', 'hex': '0xb2d05e00'}</td>\n",
       "      <td>{'type': 'BigNumber', 'hex': '0x2cba3d'}</td>\n",
       "      <td>2022-04-03 17:30:55</td>\n",
       "      <td>2022-04-03</td>\n",
       "    </tr>\n",
       "    <tr>\n",
       "      <th>4</th>\n",
       "      <td>13361</td>\n",
       "      <td>0x06078143f81BaFCB7B5dF588bf2E8247dC8702bE</td>\n",
       "      <td>0xa7EAbcee5D24B5DAE7fFA7Ca2cE3A981921376e5</td>\n",
       "      <td>move</td>\n",
       "      <td>1648978260</td>\n",
       "      <td>[{'name': '_a', 'value': ['5883542376368819459...</td>\n",
       "      <td>21443581</td>\n",
       "      <td>2</td>\n",
       "      <td>{'type': 'BigNumber', 'hex': '0x00'}</td>\n",
       "      <td>{'type': 'BigNumber', 'hex': '0x42c1d800'}</td>\n",
       "      <td>{'type': 'BigNumber', 'hex': '0x58cc51'}</td>\n",
       "      <td>2022-04-03 17:31:00</td>\n",
       "      <td>2022-04-03</td>\n",
       "    </tr>\n",
       "  </tbody>\n",
       "</table>\n",
       "</div>"
      ],
      "text/plain": [
       "   Unnamed: 0                                          to  \\\n",
       "0       13365  0x06078143f81BaFCB7B5dF588bf2E8247dC8702bE   \n",
       "1       13364  0x06078143f81BaFCB7B5dF588bf2E8247dC8702bE   \n",
       "2       13363  0xbCFeFea1e83060DbCEf2Ed0513755D049fDE952C   \n",
       "3       13362  0x06078143f81BaFCB7B5dF588bf2E8247dC8702bE   \n",
       "4       13361  0x06078143f81BaFCB7B5dF588bf2E8247dC8702bE   \n",
       "\n",
       "                                         from        function        time  \\\n",
       "0  0x19e63Ee48e0df0534818398e68AC4c1Fa68177fB            move  1648978255   \n",
       "1  0x1694c371B2632F0a2b76E02cd6a07e26e81003c6  prospectPlanet  1648978255   \n",
       "2  0xb431eeA857f20FD8C519D6fa49F82C078ddf7bCd    transferFrom  1648978255   \n",
       "3  0x327fC4EA39d465F674eb9Ff597d83f7852C64F6f            move  1648978255   \n",
       "4  0xa7EAbcee5D24B5DAE7fFA7Ca2cE3A981921376e5            move  1648978260   \n",
       "\n",
       "                                              params  blockNumber  type  \\\n",
       "0  [{'name': '_a', 'value': ['1885860697480286020...     21443580     2   \n",
       "1  [{'name': 'locationId', 'value': '140817225111...     21443580     2   \n",
       "2  [{'name': 'from', 'value': '0x4f56539df5e129db...     21443580     2   \n",
       "3  [{'name': '_a', 'value': ['1018818674467944510...     21443580     2   \n",
       "4  [{'name': '_a', 'value': ['5883542376368819459...     21443581     2   \n",
       "\n",
       "                                  value  \\\n",
       "0  {'type': 'BigNumber', 'hex': '0x00'}   \n",
       "1  {'type': 'BigNumber', 'hex': '0x00'}   \n",
       "2  {'type': 'BigNumber', 'hex': '0x00'}   \n",
       "3  {'type': 'BigNumber', 'hex': '0x00'}   \n",
       "4  {'type': 'BigNumber', 'hex': '0x00'}   \n",
       "\n",
       "                                     gasPrice  \\\n",
       "0  {'type': 'BigNumber', 'hex': '0x42c1d800'}   \n",
       "1  {'type': 'BigNumber', 'hex': '0x42c1d800'}   \n",
       "2  {'type': 'BigNumber', 'hex': '0x59682f07'}   \n",
       "3  {'type': 'BigNumber', 'hex': '0xb2d05e00'}   \n",
       "4  {'type': 'BigNumber', 'hex': '0x42c1d800'}   \n",
       "\n",
       "                                    gasUsed            datetime        date  \n",
       "0  {'type': 'BigNumber', 'hex': '0x2cba3d'} 2022-04-03 17:30:55  2022-04-03  \n",
       "1  {'type': 'BigNumber', 'hex': '0x2cba3d'} 2022-04-03 17:30:55  2022-04-03  \n",
       "2  {'type': 'BigNumber', 'hex': '0x2cba3d'} 2022-04-03 17:30:55  2022-04-03  \n",
       "3  {'type': 'BigNumber', 'hex': '0x2cba3d'} 2022-04-03 17:30:55  2022-04-03  \n",
       "4  {'type': 'BigNumber', 'hex': '0x58cc51'} 2022-04-03 17:31:00  2022-04-03  "
      ]
     },
     "execution_count": 170,
     "metadata": {},
     "output_type": "execute_result"
    }
   ],
   "source": [
    "data['datetime'] = data['time'].map(lambda x: datetime.datetime.fromtimestamp(x))\n",
    "data['date'] = data['datetime'].map(lambda x: x.date())\n",
    "data.head()"
   ]
  },
  {
   "cell_type": "code",
   "execution_count": 171,
   "metadata": {},
   "outputs": [
    {
     "data": {
      "text/plain": [
       "array([datetime.date(2022, 4, 3), datetime.date(2022, 4, 4),\n",
       "       datetime.date(2022, 4, 5), datetime.date(2022, 4, 6),\n",
       "       datetime.date(2022, 4, 7), datetime.date(2022, 4, 8)], dtype=object)"
      ]
     },
     "execution_count": 171,
     "metadata": {},
     "output_type": "execute_result"
    }
   ],
   "source": [
    "data['date'].unique()"
   ]
  },
  {
   "cell_type": "code",
   "execution_count": 172,
   "metadata": {},
   "outputs": [],
   "source": [
    "data['strDate'] = data['date'].map(lambda x: str(x))"
   ]
  },
  {
   "cell_type": "markdown",
   "metadata": {},
   "source": [
    "### Start to get charts"
   ]
  },
  {
   "cell_type": "markdown",
   "metadata": {},
   "source": [
    "##### Add a special column for summing up"
   ]
  },
  {
   "cell_type": "code",
   "execution_count": 173,
   "metadata": {},
   "outputs": [],
   "source": [
    "data['sum_col'] = np.array([1] * data.shape[0])"
   ]
  },
  {
   "cell_type": "code",
   "execution_count": 174,
   "metadata": {},
   "outputs": [
    {
     "data": {
      "text/html": [
       "<div>\n",
       "<style scoped>\n",
       "    .dataframe tbody tr th:only-of-type {\n",
       "        vertical-align: middle;\n",
       "    }\n",
       "\n",
       "    .dataframe tbody tr th {\n",
       "        vertical-align: top;\n",
       "    }\n",
       "\n",
       "    .dataframe thead th {\n",
       "        text-align: right;\n",
       "    }\n",
       "</style>\n",
       "<table border=\"1\" class=\"dataframe\">\n",
       "  <thead>\n",
       "    <tr style=\"text-align: right;\">\n",
       "      <th></th>\n",
       "      <th></th>\n",
       "      <th>Unnamed: 0</th>\n",
       "      <th>to</th>\n",
       "      <th>from</th>\n",
       "      <th>time</th>\n",
       "      <th>params</th>\n",
       "      <th>blockNumber</th>\n",
       "      <th>type</th>\n",
       "      <th>value</th>\n",
       "      <th>gasPrice</th>\n",
       "      <th>gasUsed</th>\n",
       "      <th>datetime</th>\n",
       "      <th>date</th>\n",
       "      <th>sum_col</th>\n",
       "    </tr>\n",
       "    <tr>\n",
       "      <th>strDate</th>\n",
       "      <th>function</th>\n",
       "      <th></th>\n",
       "      <th></th>\n",
       "      <th></th>\n",
       "      <th></th>\n",
       "      <th></th>\n",
       "      <th></th>\n",
       "      <th></th>\n",
       "      <th></th>\n",
       "      <th></th>\n",
       "      <th></th>\n",
       "      <th></th>\n",
       "      <th></th>\n",
       "      <th></th>\n",
       "    </tr>\n",
       "  </thead>\n",
       "  <tbody>\n",
       "    <tr>\n",
       "      <th rowspan=\"5\" valign=\"top\">2022-04-03</th>\n",
       "      <th>activateArtifact</th>\n",
       "      <td>76</td>\n",
       "      <td>76</td>\n",
       "      <td>76</td>\n",
       "      <td>76</td>\n",
       "      <td>76</td>\n",
       "      <td>76</td>\n",
       "      <td>76</td>\n",
       "      <td>76</td>\n",
       "      <td>76</td>\n",
       "      <td>76</td>\n",
       "      <td>76</td>\n",
       "      <td>76</td>\n",
       "      <td>76</td>\n",
       "    </tr>\n",
       "    <tr>\n",
       "      <th>addToWhitelist</th>\n",
       "      <td>3</td>\n",
       "      <td>3</td>\n",
       "      <td>3</td>\n",
       "      <td>3</td>\n",
       "      <td>3</td>\n",
       "      <td>3</td>\n",
       "      <td>3</td>\n",
       "      <td>3</td>\n",
       "      <td>3</td>\n",
       "      <td>3</td>\n",
       "      <td>3</td>\n",
       "      <td>3</td>\n",
       "      <td>3</td>\n",
       "    </tr>\n",
       "    <tr>\n",
       "      <th>approve</th>\n",
       "      <td>499</td>\n",
       "      <td>499</td>\n",
       "      <td>499</td>\n",
       "      <td>499</td>\n",
       "      <td>499</td>\n",
       "      <td>499</td>\n",
       "      <td>499</td>\n",
       "      <td>499</td>\n",
       "      <td>499</td>\n",
       "      <td>499</td>\n",
       "      <td>499</td>\n",
       "      <td>499</td>\n",
       "      <td>499</td>\n",
       "    </tr>\n",
       "    <tr>\n",
       "      <th>capturePlanet</th>\n",
       "      <td>812</td>\n",
       "      <td>812</td>\n",
       "      <td>812</td>\n",
       "      <td>812</td>\n",
       "      <td>812</td>\n",
       "      <td>812</td>\n",
       "      <td>812</td>\n",
       "      <td>812</td>\n",
       "      <td>812</td>\n",
       "      <td>812</td>\n",
       "      <td>812</td>\n",
       "      <td>812</td>\n",
       "      <td>812</td>\n",
       "    </tr>\n",
       "    <tr>\n",
       "      <th>createLobby</th>\n",
       "      <td>1</td>\n",
       "      <td>1</td>\n",
       "      <td>1</td>\n",
       "      <td>1</td>\n",
       "      <td>1</td>\n",
       "      <td>1</td>\n",
       "      <td>1</td>\n",
       "      <td>1</td>\n",
       "      <td>1</td>\n",
       "      <td>1</td>\n",
       "      <td>1</td>\n",
       "      <td>1</td>\n",
       "      <td>1</td>\n",
       "    </tr>\n",
       "    <tr>\n",
       "      <th>...</th>\n",
       "      <th>...</th>\n",
       "      <td>...</td>\n",
       "      <td>...</td>\n",
       "      <td>...</td>\n",
       "      <td>...</td>\n",
       "      <td>...</td>\n",
       "      <td>...</td>\n",
       "      <td>...</td>\n",
       "      <td>...</td>\n",
       "      <td>...</td>\n",
       "      <td>...</td>\n",
       "      <td>...</td>\n",
       "      <td>...</td>\n",
       "      <td>...</td>\n",
       "    </tr>\n",
       "    <tr>\n",
       "      <th rowspan=\"5\" valign=\"top\">2022-04-08</th>\n",
       "      <th>setApprovalForAll</th>\n",
       "      <td>26</td>\n",
       "      <td>26</td>\n",
       "      <td>26</td>\n",
       "      <td>26</td>\n",
       "      <td>26</td>\n",
       "      <td>26</td>\n",
       "      <td>26</td>\n",
       "      <td>26</td>\n",
       "      <td>26</td>\n",
       "      <td>26</td>\n",
       "      <td>26</td>\n",
       "      <td>26</td>\n",
       "      <td>26</td>\n",
       "    </tr>\n",
       "    <tr>\n",
       "      <th>transferFrom</th>\n",
       "      <td>122</td>\n",
       "      <td>122</td>\n",
       "      <td>122</td>\n",
       "      <td>122</td>\n",
       "      <td>122</td>\n",
       "      <td>122</td>\n",
       "      <td>122</td>\n",
       "      <td>122</td>\n",
       "      <td>122</td>\n",
       "      <td>122</td>\n",
       "      <td>122</td>\n",
       "      <td>122</td>\n",
       "      <td>122</td>\n",
       "    </tr>\n",
       "    <tr>\n",
       "      <th>upgradePlanet</th>\n",
       "      <td>9</td>\n",
       "      <td>9</td>\n",
       "      <td>9</td>\n",
       "      <td>9</td>\n",
       "      <td>9</td>\n",
       "      <td>9</td>\n",
       "      <td>9</td>\n",
       "      <td>9</td>\n",
       "      <td>9</td>\n",
       "      <td>9</td>\n",
       "      <td>9</td>\n",
       "      <td>9</td>\n",
       "      <td>9</td>\n",
       "    </tr>\n",
       "    <tr>\n",
       "      <th>withdrawArtifact</th>\n",
       "      <td>29</td>\n",
       "      <td>29</td>\n",
       "      <td>29</td>\n",
       "      <td>29</td>\n",
       "      <td>29</td>\n",
       "      <td>29</td>\n",
       "      <td>29</td>\n",
       "      <td>29</td>\n",
       "      <td>29</td>\n",
       "      <td>29</td>\n",
       "      <td>29</td>\n",
       "      <td>29</td>\n",
       "      <td>29</td>\n",
       "    </tr>\n",
       "    <tr>\n",
       "      <th>withdrawSilver</th>\n",
       "      <td>35</td>\n",
       "      <td>35</td>\n",
       "      <td>35</td>\n",
       "      <td>35</td>\n",
       "      <td>35</td>\n",
       "      <td>35</td>\n",
       "      <td>35</td>\n",
       "      <td>35</td>\n",
       "      <td>35</td>\n",
       "      <td>35</td>\n",
       "      <td>35</td>\n",
       "      <td>35</td>\n",
       "      <td>35</td>\n",
       "    </tr>\n",
       "  </tbody>\n",
       "</table>\n",
       "<p>142 rows × 13 columns</p>\n",
       "</div>"
      ],
      "text/plain": [
       "                              Unnamed: 0   to  from  time  params  \\\n",
       "strDate    function                                                 \n",
       "2022-04-03 activateArtifact           76   76    76    76      76   \n",
       "           addToWhitelist              3    3     3     3       3   \n",
       "           approve                   499  499   499   499     499   \n",
       "           capturePlanet             812  812   812   812     812   \n",
       "           createLobby                 1    1     1     1       1   \n",
       "...                                  ...  ...   ...   ...     ...   \n",
       "2022-04-08 setApprovalForAll          26   26    26    26      26   \n",
       "           transferFrom              122  122   122   122     122   \n",
       "           upgradePlanet               9    9     9     9       9   \n",
       "           withdrawArtifact           29   29    29    29      29   \n",
       "           withdrawSilver             35   35    35    35      35   \n",
       "\n",
       "                              blockNumber  type  value  gasPrice  gasUsed  \\\n",
       "strDate    function                                                         \n",
       "2022-04-03 activateArtifact            76    76     76        76       76   \n",
       "           addToWhitelist               3     3      3         3        3   \n",
       "           approve                    499   499    499       499      499   \n",
       "           capturePlanet              812   812    812       812      812   \n",
       "           createLobby                  1     1      1         1        1   \n",
       "...                                   ...   ...    ...       ...      ...   \n",
       "2022-04-08 setApprovalForAll           26    26     26        26       26   \n",
       "           transferFrom               122   122    122       122      122   \n",
       "           upgradePlanet                9     9      9         9        9   \n",
       "           withdrawArtifact            29    29     29        29       29   \n",
       "           withdrawSilver              35    35     35        35       35   \n",
       "\n",
       "                              datetime  date  sum_col  \n",
       "strDate    function                                    \n",
       "2022-04-03 activateArtifact         76    76       76  \n",
       "           addToWhitelist            3     3        3  \n",
       "           approve                 499   499      499  \n",
       "           capturePlanet           812   812      812  \n",
       "           createLobby               1     1        1  \n",
       "...                                ...   ...      ...  \n",
       "2022-04-08 setApprovalForAll        26    26       26  \n",
       "           transferFrom            122   122      122  \n",
       "           upgradePlanet             9     9        9  \n",
       "           withdrawArtifact         29    29       29  \n",
       "           withdrawSilver           35    35       35  \n",
       "\n",
       "[142 rows x 13 columns]"
      ]
     },
     "execution_count": 174,
     "metadata": {},
     "output_type": "execute_result"
    }
   ],
   "source": [
    "group_data = data.groupby(['strDate', 'function']).count()\n",
    "group_data"
   ]
  },
  {
   "cell_type": "markdown",
   "metadata": {},
   "source": [
    "##### Function called times in different days"
   ]
  },
  {
   "cell_type": "code",
   "execution_count": 175,
   "metadata": {},
   "outputs": [
    {
     "data": {
      "text/html": [
       "<div>\n",
       "<style scoped>\n",
       "    .dataframe tbody tr th:only-of-type {\n",
       "        vertical-align: middle;\n",
       "    }\n",
       "\n",
       "    .dataframe tbody tr th {\n",
       "        vertical-align: top;\n",
       "    }\n",
       "\n",
       "    .dataframe thead th {\n",
       "        text-align: right;\n",
       "    }\n",
       "</style>\n",
       "<table border=\"1\" class=\"dataframe\">\n",
       "  <thead>\n",
       "    <tr style=\"text-align: right;\">\n",
       "      <th></th>\n",
       "      <th></th>\n",
       "      <th>Unnamed: 0</th>\n",
       "      <th>to</th>\n",
       "      <th>from</th>\n",
       "      <th>time</th>\n",
       "      <th>params</th>\n",
       "      <th>blockNumber</th>\n",
       "      <th>type</th>\n",
       "      <th>value</th>\n",
       "      <th>gasPrice</th>\n",
       "      <th>gasUsed</th>\n",
       "      <th>datetime</th>\n",
       "      <th>date</th>\n",
       "      <th>sum_col</th>\n",
       "    </tr>\n",
       "    <tr>\n",
       "      <th>strDate</th>\n",
       "      <th>function</th>\n",
       "      <th></th>\n",
       "      <th></th>\n",
       "      <th></th>\n",
       "      <th></th>\n",
       "      <th></th>\n",
       "      <th></th>\n",
       "      <th></th>\n",
       "      <th></th>\n",
       "      <th></th>\n",
       "      <th></th>\n",
       "      <th></th>\n",
       "      <th></th>\n",
       "      <th></th>\n",
       "    </tr>\n",
       "  </thead>\n",
       "  <tbody>\n",
       "    <tr>\n",
       "      <th>2022-04-04</th>\n",
       "      <th>move</th>\n",
       "      <td>20755</td>\n",
       "      <td>20755</td>\n",
       "      <td>20755</td>\n",
       "      <td>20755</td>\n",
       "      <td>20755</td>\n",
       "      <td>20755</td>\n",
       "      <td>20755</td>\n",
       "      <td>20755</td>\n",
       "      <td>20755</td>\n",
       "      <td>20755</td>\n",
       "      <td>20755</td>\n",
       "      <td>20755</td>\n",
       "      <td>20755</td>\n",
       "    </tr>\n",
       "    <tr>\n",
       "      <th>2022-04-05</th>\n",
       "      <th>move</th>\n",
       "      <td>20617</td>\n",
       "      <td>20617</td>\n",
       "      <td>20617</td>\n",
       "      <td>20617</td>\n",
       "      <td>20617</td>\n",
       "      <td>20617</td>\n",
       "      <td>20617</td>\n",
       "      <td>20617</td>\n",
       "      <td>20617</td>\n",
       "      <td>20617</td>\n",
       "      <td>20617</td>\n",
       "      <td>20617</td>\n",
       "      <td>20617</td>\n",
       "    </tr>\n",
       "    <tr>\n",
       "      <th>2022-04-06</th>\n",
       "      <th>move</th>\n",
       "      <td>9726</td>\n",
       "      <td>9726</td>\n",
       "      <td>9726</td>\n",
       "      <td>9726</td>\n",
       "      <td>9726</td>\n",
       "      <td>9726</td>\n",
       "      <td>9726</td>\n",
       "      <td>9726</td>\n",
       "      <td>9726</td>\n",
       "      <td>9726</td>\n",
       "      <td>9726</td>\n",
       "      <td>9726</td>\n",
       "      <td>9726</td>\n",
       "    </tr>\n",
       "    <tr>\n",
       "      <th>2022-04-03</th>\n",
       "      <th>move</th>\n",
       "      <td>8774</td>\n",
       "      <td>8774</td>\n",
       "      <td>8774</td>\n",
       "      <td>8774</td>\n",
       "      <td>8774</td>\n",
       "      <td>8774</td>\n",
       "      <td>8774</td>\n",
       "      <td>8774</td>\n",
       "      <td>8774</td>\n",
       "      <td>8774</td>\n",
       "      <td>8774</td>\n",
       "      <td>8774</td>\n",
       "      <td>8774</td>\n",
       "    </tr>\n",
       "    <tr>\n",
       "      <th>2022-04-05</th>\n",
       "      <th>capturePlanet</th>\n",
       "      <td>5974</td>\n",
       "      <td>5974</td>\n",
       "      <td>5974</td>\n",
       "      <td>5974</td>\n",
       "      <td>5974</td>\n",
       "      <td>5974</td>\n",
       "      <td>5974</td>\n",
       "      <td>5974</td>\n",
       "      <td>5974</td>\n",
       "      <td>5974</td>\n",
       "      <td>5974</td>\n",
       "      <td>5974</td>\n",
       "      <td>5974</td>\n",
       "    </tr>\n",
       "  </tbody>\n",
       "</table>\n",
       "</div>"
      ],
      "text/plain": [
       "                          Unnamed: 0     to   from   time  params  \\\n",
       "strDate    function                                                 \n",
       "2022-04-04 move                20755  20755  20755  20755   20755   \n",
       "2022-04-05 move                20617  20617  20617  20617   20617   \n",
       "2022-04-06 move                 9726   9726   9726   9726    9726   \n",
       "2022-04-03 move                 8774   8774   8774   8774    8774   \n",
       "2022-04-05 capturePlanet        5974   5974   5974   5974    5974   \n",
       "\n",
       "                          blockNumber   type  value  gasPrice  gasUsed  \\\n",
       "strDate    function                                                      \n",
       "2022-04-04 move                 20755  20755  20755     20755    20755   \n",
       "2022-04-05 move                 20617  20617  20617     20617    20617   \n",
       "2022-04-06 move                  9726   9726   9726      9726     9726   \n",
       "2022-04-03 move                  8774   8774   8774      8774     8774   \n",
       "2022-04-05 capturePlanet         5974   5974   5974      5974     5974   \n",
       "\n",
       "                          datetime   date  sum_col  \n",
       "strDate    function                                 \n",
       "2022-04-04 move              20755  20755    20755  \n",
       "2022-04-05 move              20617  20617    20617  \n",
       "2022-04-06 move               9726   9726     9726  \n",
       "2022-04-03 move               8774   8774     8774  \n",
       "2022-04-05 capturePlanet      5974   5974     5974  "
      ]
     },
     "execution_count": 175,
     "metadata": {},
     "output_type": "execute_result"
    }
   ],
   "source": [
    "sorted_data = group_data.sort_values(by='sum_col', ascending=False)\n",
    "length = sorted_data.shape[0]\n",
    "sorted_data = sorted_data.iloc[:20]\n",
    "sorted_data.head()"
   ]
  },
  {
   "cell_type": "code",
   "execution_count": 193,
   "metadata": {},
   "outputs": [
    {
     "data": {
      "text/plain": [
       "<seaborn.axisgrid.FacetGrid at 0x7fc34cb068d0>"
      ]
     },
     "execution_count": 193,
     "metadata": {},
     "output_type": "execute_result"
    },
    {
     "data": {
      "image/png": "[encoded data removed]",
      "text/plain": [
       "<Figure size 829.125x360 with 1 Axes>"
      ]
     },
     "metadata": {
      "needs_background": "light"
     },
     "output_type": "display_data"
    }
   ],
   "source": [
    "sns.set_palette('pastel')\n",
    "sns.displot(sorted_data, x='strDate', hue='function', multiple='stack', aspect=2)"
   ]
  },
  {
   "cell_type": "markdown",
   "metadata": {},
   "source": [
    "##### Active users"
   ]
  },
  {
   "cell_type": "code",
   "execution_count": 195,
   "metadata": {},
   "outputs": [
    {
     "data": {
      "text/plain": [
       "<seaborn.axisgrid.FacetGrid at 0x7fc34df6edd0>"
      ]
     },
     "execution_count": 195,
     "metadata": {},
     "output_type": "execute_result"
    },
    {
     "data": {
      "image/png": "[encoded data removed]",
      "text/plain": [
       "<Figure size 787.875x360 with 1 Axes>"
      ]
     },
     "metadata": {
      "needs_background": "light"
     },
     "output_type": "display_data"
    }
   ],
   "source": [
    "sns.displot(data.groupby(['strDate']).count(), x='strDate', hue='from', aspect=2)"
   ]
  },
  {
   "cell_type": "markdown",
   "metadata": {},
   "source": [
    "The number of users declined from Apr 6th to Apr 8th.\n",
    "\n",
    "Note that Apr 6th, Apr 7th, and Apr 8th are all weekdays."
   ]
  },
  {
   "cell_type": "markdown",
   "metadata": {},
   "source": [
    "#### Gas Price Effects"
   ]
  },
  {
   "cell_type": "markdown",
   "metadata": {},
   "source": [
    "Convert 'gasUsed' column:"
   ]
  },
  {
   "cell_type": "code",
   "execution_count": 178,
   "metadata": {},
   "outputs": [
    {
     "data": {
      "text/html": [
       "<div>\n",
       "<style scoped>\n",
       "    .dataframe tbody tr th:only-of-type {\n",
       "        vertical-align: middle;\n",
       "    }\n",
       "\n",
       "    .dataframe tbody tr th {\n",
       "        vertical-align: top;\n",
       "    }\n",
       "\n",
       "    .dataframe thead th {\n",
       "        text-align: right;\n",
       "    }\n",
       "</style>\n",
       "<table border=\"1\" class=\"dataframe\">\n",
       "  <thead>\n",
       "    <tr style=\"text-align: right;\">\n",
       "      <th></th>\n",
       "      <th>Unnamed: 0</th>\n",
       "      <th>to</th>\n",
       "      <th>from</th>\n",
       "      <th>function</th>\n",
       "      <th>time</th>\n",
       "      <th>params</th>\n",
       "      <th>blockNumber</th>\n",
       "      <th>type</th>\n",
       "      <th>value</th>\n",
       "      <th>gasPrice</th>\n",
       "      <th>gasUsed</th>\n",
       "      <th>datetime</th>\n",
       "      <th>date</th>\n",
       "      <th>strDate</th>\n",
       "      <th>sum_col</th>\n",
       "      <th>logGasUsed</th>\n",
       "    </tr>\n",
       "  </thead>\n",
       "  <tbody>\n",
       "    <tr>\n",
       "      <th>0</th>\n",
       "      <td>13365</td>\n",
       "      <td>0x06078143f81BaFCB7B5dF588bf2E8247dC8702bE</td>\n",
       "      <td>0x19e63Ee48e0df0534818398e68AC4c1Fa68177fB</td>\n",
       "      <td>move</td>\n",
       "      <td>1648978255</td>\n",
       "      <td>[{'name': '_a', 'value': ['1885860697480286020...</td>\n",
       "      <td>21443580</td>\n",
       "      <td>2</td>\n",
       "      <td>{'type': 'BigNumber', 'hex': '0x00'}</td>\n",
       "      <td>{'type': 'BigNumber', 'hex': '0x42c1d800'}</td>\n",
       "      <td>{'type': 'BigNumber', 'hex': '0x2cba3d'}</td>\n",
       "      <td>2022-04-03 17:30:55</td>\n",
       "      <td>2022-04-03</td>\n",
       "      <td>2022-04-03</td>\n",
       "      <td>1</td>\n",
       "      <td>14.890943</td>\n",
       "    </tr>\n",
       "    <tr>\n",
       "      <th>1</th>\n",
       "      <td>13364</td>\n",
       "      <td>0x06078143f81BaFCB7B5dF588bf2E8247dC8702bE</td>\n",
       "      <td>0x1694c371B2632F0a2b76E02cd6a07e26e81003c6</td>\n",
       "      <td>prospectPlanet</td>\n",
       "      <td>1648978255</td>\n",
       "      <td>[{'name': 'locationId', 'value': '140817225111...</td>\n",
       "      <td>21443580</td>\n",
       "      <td>2</td>\n",
       "      <td>{'type': 'BigNumber', 'hex': '0x00'}</td>\n",
       "      <td>{'type': 'BigNumber', 'hex': '0x42c1d800'}</td>\n",
       "      <td>{'type': 'BigNumber', 'hex': '0x2cba3d'}</td>\n",
       "      <td>2022-04-03 17:30:55</td>\n",
       "      <td>2022-04-03</td>\n",
       "      <td>2022-04-03</td>\n",
       "      <td>1</td>\n",
       "      <td>14.890943</td>\n",
       "    </tr>\n",
       "    <tr>\n",
       "      <th>2</th>\n",
       "      <td>13363</td>\n",
       "      <td>0xbCFeFea1e83060DbCEf2Ed0513755D049fDE952C</td>\n",
       "      <td>0xb431eeA857f20FD8C519D6fa49F82C078ddf7bCd</td>\n",
       "      <td>transferFrom</td>\n",
       "      <td>1648978255</td>\n",
       "      <td>[{'name': 'from', 'value': '0x4f56539df5e129db...</td>\n",
       "      <td>21443580</td>\n",
       "      <td>2</td>\n",
       "      <td>{'type': 'BigNumber', 'hex': '0x00'}</td>\n",
       "      <td>{'type': 'BigNumber', 'hex': '0x59682f07'}</td>\n",
       "      <td>{'type': 'BigNumber', 'hex': '0x2cba3d'}</td>\n",
       "      <td>2022-04-03 17:30:55</td>\n",
       "      <td>2022-04-03</td>\n",
       "      <td>2022-04-03</td>\n",
       "      <td>1</td>\n",
       "      <td>14.890943</td>\n",
       "    </tr>\n",
       "    <tr>\n",
       "      <th>3</th>\n",
       "      <td>13362</td>\n",
       "      <td>0x06078143f81BaFCB7B5dF588bf2E8247dC8702bE</td>\n",
       "      <td>0x327fC4EA39d465F674eb9Ff597d83f7852C64F6f</td>\n",
       "      <td>move</td>\n",
       "      <td>1648978255</td>\n",
       "      <td>[{'name': '_a', 'value': ['1018818674467944510...</td>\n",
       "      <td>21443580</td>\n",
       "      <td>2</td>\n",
       "      <td>{'type': 'BigNumber', 'hex': '0x00'}</td>\n",
       "      <td>{'type': 'BigNumber', 'hex': '0xb2d05e00'}</td>\n",
       "      <td>{'type': 'BigNumber', 'hex': '0x2cba3d'}</td>\n",
       "      <td>2022-04-03 17:30:55</td>\n",
       "      <td>2022-04-03</td>\n",
       "      <td>2022-04-03</td>\n",
       "      <td>1</td>\n",
       "      <td>14.890943</td>\n",
       "    </tr>\n",
       "    <tr>\n",
       "      <th>4</th>\n",
       "      <td>13361</td>\n",
       "      <td>0x06078143f81BaFCB7B5dF588bf2E8247dC8702bE</td>\n",
       "      <td>0xa7EAbcee5D24B5DAE7fFA7Ca2cE3A981921376e5</td>\n",
       "      <td>move</td>\n",
       "      <td>1648978260</td>\n",
       "      <td>[{'name': '_a', 'value': ['5883542376368819459...</td>\n",
       "      <td>21443581</td>\n",
       "      <td>2</td>\n",
       "      <td>{'type': 'BigNumber', 'hex': '0x00'}</td>\n",
       "      <td>{'type': 'BigNumber', 'hex': '0x42c1d800'}</td>\n",
       "      <td>{'type': 'BigNumber', 'hex': '0x58cc51'}</td>\n",
       "      <td>2022-04-03 17:31:00</td>\n",
       "      <td>2022-04-03</td>\n",
       "      <td>2022-04-03</td>\n",
       "      <td>1</td>\n",
       "      <td>15.576720</td>\n",
       "    </tr>\n",
       "  </tbody>\n",
       "</table>\n",
       "</div>"
      ],
      "text/plain": [
       "   Unnamed: 0                                          to  \\\n",
       "0       13365  0x06078143f81BaFCB7B5dF588bf2E8247dC8702bE   \n",
       "1       13364  0x06078143f81BaFCB7B5dF588bf2E8247dC8702bE   \n",
       "2       13363  0xbCFeFea1e83060DbCEf2Ed0513755D049fDE952C   \n",
       "3       13362  0x06078143f81BaFCB7B5dF588bf2E8247dC8702bE   \n",
       "4       13361  0x06078143f81BaFCB7B5dF588bf2E8247dC8702bE   \n",
       "\n",
       "                                         from        function        time  \\\n",
       "0  0x19e63Ee48e0df0534818398e68AC4c1Fa68177fB            move  1648978255   \n",
       "1  0x1694c371B2632F0a2b76E02cd6a07e26e81003c6  prospectPlanet  1648978255   \n",
       "2  0xb431eeA857f20FD8C519D6fa49F82C078ddf7bCd    transferFrom  1648978255   \n",
       "3  0x327fC4EA39d465F674eb9Ff597d83f7852C64F6f            move  1648978255   \n",
       "4  0xa7EAbcee5D24B5DAE7fFA7Ca2cE3A981921376e5            move  1648978260   \n",
       "\n",
       "                                              params  blockNumber  type  \\\n",
       "0  [{'name': '_a', 'value': ['1885860697480286020...     21443580     2   \n",
       "1  [{'name': 'locationId', 'value': '140817225111...     21443580     2   \n",
       "2  [{'name': 'from', 'value': '0x4f56539df5e129db...     21443580     2   \n",
       "3  [{'name': '_a', 'value': ['1018818674467944510...     21443580     2   \n",
       "4  [{'name': '_a', 'value': ['5883542376368819459...     21443581     2   \n",
       "\n",
       "                                  value  \\\n",
       "0  {'type': 'BigNumber', 'hex': '0x00'}   \n",
       "1  {'type': 'BigNumber', 'hex': '0x00'}   \n",
       "2  {'type': 'BigNumber', 'hex': '0x00'}   \n",
       "3  {'type': 'BigNumber', 'hex': '0x00'}   \n",
       "4  {'type': 'BigNumber', 'hex': '0x00'}   \n",
       "\n",
       "                                     gasPrice  \\\n",
       "0  {'type': 'BigNumber', 'hex': '0x42c1d800'}   \n",
       "1  {'type': 'BigNumber', 'hex': '0x42c1d800'}   \n",
       "2  {'type': 'BigNumber', 'hex': '0x59682f07'}   \n",
       "3  {'type': 'BigNumber', 'hex': '0xb2d05e00'}   \n",
       "4  {'type': 'BigNumber', 'hex': '0x42c1d800'}   \n",
       "\n",
       "                                    gasUsed            datetime        date  \\\n",
       "0  {'type': 'BigNumber', 'hex': '0x2cba3d'} 2022-04-03 17:30:55  2022-04-03   \n",
       "1  {'type': 'BigNumber', 'hex': '0x2cba3d'} 2022-04-03 17:30:55  2022-04-03   \n",
       "2  {'type': 'BigNumber', 'hex': '0x2cba3d'} 2022-04-03 17:30:55  2022-04-03   \n",
       "3  {'type': 'BigNumber', 'hex': '0x2cba3d'} 2022-04-03 17:30:55  2022-04-03   \n",
       "4  {'type': 'BigNumber', 'hex': '0x58cc51'} 2022-04-03 17:31:00  2022-04-03   \n",
       "\n",
       "      strDate  sum_col  logGasUsed  \n",
       "0  2022-04-03        1   14.890943  \n",
       "1  2022-04-03        1   14.890943  \n",
       "2  2022-04-03        1   14.890943  \n",
       "3  2022-04-03        1   14.890943  \n",
       "4  2022-04-03        1   15.576720  "
      ]
     },
     "execution_count": 178,
     "metadata": {},
     "output_type": "execute_result"
    }
   ],
   "source": [
    "data['logGasUsed'] = data['gasUsed'].map(lambda x: np.log(int(eval(x)['hex'], 16)))\n",
    "data.head()"
   ]
  },
  {
   "cell_type": "code",
   "execution_count": 179,
   "metadata": {},
   "outputs": [
    {
     "data": {
      "text/html": [
       "<div>\n",
       "<style scoped>\n",
       "    .dataframe tbody tr th:only-of-type {\n",
       "        vertical-align: middle;\n",
       "    }\n",
       "\n",
       "    .dataframe tbody tr th {\n",
       "        vertical-align: top;\n",
       "    }\n",
       "\n",
       "    .dataframe thead th {\n",
       "        text-align: right;\n",
       "    }\n",
       "</style>\n",
       "<table border=\"1\" class=\"dataframe\">\n",
       "  <thead>\n",
       "    <tr style=\"text-align: right;\">\n",
       "      <th></th>\n",
       "      <th>Unnamed: 0</th>\n",
       "      <th>to</th>\n",
       "      <th>from</th>\n",
       "      <th>function</th>\n",
       "      <th>time</th>\n",
       "      <th>params</th>\n",
       "      <th>blockNumber</th>\n",
       "      <th>type</th>\n",
       "      <th>value</th>\n",
       "      <th>gasPrice</th>\n",
       "      <th>gasUsed</th>\n",
       "      <th>datetime</th>\n",
       "      <th>date</th>\n",
       "      <th>strDate</th>\n",
       "      <th>sum_col</th>\n",
       "      <th>logGasUsed</th>\n",
       "    </tr>\n",
       "  </thead>\n",
       "  <tbody>\n",
       "    <tr>\n",
       "      <th>0</th>\n",
       "      <td>13365</td>\n",
       "      <td>0x06078143f81BaFCB7B5dF588bf2E8247dC8702bE</td>\n",
       "      <td>0x19e63Ee48e0df0534818398e68AC4c1Fa68177fB</td>\n",
       "      <td>move</td>\n",
       "      <td>1648978255</td>\n",
       "      <td>[{'name': '_a', 'value': ['1885860697480286020...</td>\n",
       "      <td>21443580</td>\n",
       "      <td>2</td>\n",
       "      <td>{'type': 'BigNumber', 'hex': '0x00'}</td>\n",
       "      <td>20.836595</td>\n",
       "      <td>{'type': 'BigNumber', 'hex': '0x2cba3d'}</td>\n",
       "      <td>2022-04-03 17:30:55</td>\n",
       "      <td>2022-04-03</td>\n",
       "      <td>2022-04-03</td>\n",
       "      <td>1</td>\n",
       "      <td>14.890943</td>\n",
       "    </tr>\n",
       "    <tr>\n",
       "      <th>1</th>\n",
       "      <td>13364</td>\n",
       "      <td>0x06078143f81BaFCB7B5dF588bf2E8247dC8702bE</td>\n",
       "      <td>0x1694c371B2632F0a2b76E02cd6a07e26e81003c6</td>\n",
       "      <td>prospectPlanet</td>\n",
       "      <td>1648978255</td>\n",
       "      <td>[{'name': 'locationId', 'value': '140817225111...</td>\n",
       "      <td>21443580</td>\n",
       "      <td>2</td>\n",
       "      <td>{'type': 'BigNumber', 'hex': '0x00'}</td>\n",
       "      <td>20.836595</td>\n",
       "      <td>{'type': 'BigNumber', 'hex': '0x2cba3d'}</td>\n",
       "      <td>2022-04-03 17:30:55</td>\n",
       "      <td>2022-04-03</td>\n",
       "      <td>2022-04-03</td>\n",
       "      <td>1</td>\n",
       "      <td>14.890943</td>\n",
       "    </tr>\n",
       "    <tr>\n",
       "      <th>2</th>\n",
       "      <td>13363</td>\n",
       "      <td>0xbCFeFea1e83060DbCEf2Ed0513755D049fDE952C</td>\n",
       "      <td>0xb431eeA857f20FD8C519D6fa49F82C078ddf7bCd</td>\n",
       "      <td>transferFrom</td>\n",
       "      <td>1648978255</td>\n",
       "      <td>[{'name': 'from', 'value': '0x4f56539df5e129db...</td>\n",
       "      <td>21443580</td>\n",
       "      <td>2</td>\n",
       "      <td>{'type': 'BigNumber', 'hex': '0x00'}</td>\n",
       "      <td>21.128731</td>\n",
       "      <td>{'type': 'BigNumber', 'hex': '0x2cba3d'}</td>\n",
       "      <td>2022-04-03 17:30:55</td>\n",
       "      <td>2022-04-03</td>\n",
       "      <td>2022-04-03</td>\n",
       "      <td>1</td>\n",
       "      <td>14.890943</td>\n",
       "    </tr>\n",
       "    <tr>\n",
       "      <th>3</th>\n",
       "      <td>13362</td>\n",
       "      <td>0x06078143f81BaFCB7B5dF588bf2E8247dC8702bE</td>\n",
       "      <td>0x327fC4EA39d465F674eb9Ff597d83f7852C64F6f</td>\n",
       "      <td>move</td>\n",
       "      <td>1648978255</td>\n",
       "      <td>[{'name': '_a', 'value': ['1018818674467944510...</td>\n",
       "      <td>21443580</td>\n",
       "      <td>2</td>\n",
       "      <td>{'type': 'BigNumber', 'hex': '0x00'}</td>\n",
       "      <td>21.821878</td>\n",
       "      <td>{'type': 'BigNumber', 'hex': '0x2cba3d'}</td>\n",
       "      <td>2022-04-03 17:30:55</td>\n",
       "      <td>2022-04-03</td>\n",
       "      <td>2022-04-03</td>\n",
       "      <td>1</td>\n",
       "      <td>14.890943</td>\n",
       "    </tr>\n",
       "    <tr>\n",
       "      <th>4</th>\n",
       "      <td>13361</td>\n",
       "      <td>0x06078143f81BaFCB7B5dF588bf2E8247dC8702bE</td>\n",
       "      <td>0xa7EAbcee5D24B5DAE7fFA7Ca2cE3A981921376e5</td>\n",
       "      <td>move</td>\n",
       "      <td>1648978260</td>\n",
       "      <td>[{'name': '_a', 'value': ['5883542376368819459...</td>\n",
       "      <td>21443581</td>\n",
       "      <td>2</td>\n",
       "      <td>{'type': 'BigNumber', 'hex': '0x00'}</td>\n",
       "      <td>20.836595</td>\n",
       "      <td>{'type': 'BigNumber', 'hex': '0x58cc51'}</td>\n",
       "      <td>2022-04-03 17:31:00</td>\n",
       "      <td>2022-04-03</td>\n",
       "      <td>2022-04-03</td>\n",
       "      <td>1</td>\n",
       "      <td>15.576720</td>\n",
       "    </tr>\n",
       "  </tbody>\n",
       "</table>\n",
       "</div>"
      ],
      "text/plain": [
       "   Unnamed: 0                                          to  \\\n",
       "0       13365  0x06078143f81BaFCB7B5dF588bf2E8247dC8702bE   \n",
       "1       13364  0x06078143f81BaFCB7B5dF588bf2E8247dC8702bE   \n",
       "2       13363  0xbCFeFea1e83060DbCEf2Ed0513755D049fDE952C   \n",
       "3       13362  0x06078143f81BaFCB7B5dF588bf2E8247dC8702bE   \n",
       "4       13361  0x06078143f81BaFCB7B5dF588bf2E8247dC8702bE   \n",
       "\n",
       "                                         from        function        time  \\\n",
       "0  0x19e63Ee48e0df0534818398e68AC4c1Fa68177fB            move  1648978255   \n",
       "1  0x1694c371B2632F0a2b76E02cd6a07e26e81003c6  prospectPlanet  1648978255   \n",
       "2  0xb431eeA857f20FD8C519D6fa49F82C078ddf7bCd    transferFrom  1648978255   \n",
       "3  0x327fC4EA39d465F674eb9Ff597d83f7852C64F6f            move  1648978255   \n",
       "4  0xa7EAbcee5D24B5DAE7fFA7Ca2cE3A981921376e5            move  1648978260   \n",
       "\n",
       "                                              params  blockNumber  type  \\\n",
       "0  [{'name': '_a', 'value': ['1885860697480286020...     21443580     2   \n",
       "1  [{'name': 'locationId', 'value': '140817225111...     21443580     2   \n",
       "2  [{'name': 'from', 'value': '0x4f56539df5e129db...     21443580     2   \n",
       "3  [{'name': '_a', 'value': ['1018818674467944510...     21443580     2   \n",
       "4  [{'name': '_a', 'value': ['5883542376368819459...     21443581     2   \n",
       "\n",
       "                                  value   gasPrice  \\\n",
       "0  {'type': 'BigNumber', 'hex': '0x00'}  20.836595   \n",
       "1  {'type': 'BigNumber', 'hex': '0x00'}  20.836595   \n",
       "2  {'type': 'BigNumber', 'hex': '0x00'}  21.128731   \n",
       "3  {'type': 'BigNumber', 'hex': '0x00'}  21.821878   \n",
       "4  {'type': 'BigNumber', 'hex': '0x00'}  20.836595   \n",
       "\n",
       "                                    gasUsed            datetime        date  \\\n",
       "0  {'type': 'BigNumber', 'hex': '0x2cba3d'} 2022-04-03 17:30:55  2022-04-03   \n",
       "1  {'type': 'BigNumber', 'hex': '0x2cba3d'} 2022-04-03 17:30:55  2022-04-03   \n",
       "2  {'type': 'BigNumber', 'hex': '0x2cba3d'} 2022-04-03 17:30:55  2022-04-03   \n",
       "3  {'type': 'BigNumber', 'hex': '0x2cba3d'} 2022-04-03 17:30:55  2022-04-03   \n",
       "4  {'type': 'BigNumber', 'hex': '0x58cc51'} 2022-04-03 17:31:00  2022-04-03   \n",
       "\n",
       "      strDate  sum_col  logGasUsed  \n",
       "0  2022-04-03        1   14.890943  \n",
       "1  2022-04-03        1   14.890943  \n",
       "2  2022-04-03        1   14.890943  \n",
       "3  2022-04-03        1   14.890943  \n",
       "4  2022-04-03        1   15.576720  "
      ]
     },
     "execution_count": 179,
     "metadata": {},
     "output_type": "execute_result"
    }
   ],
   "source": [
    "data['gasPrice'] = data['gasPrice'].map(lambda x: np.log(int(eval(x)['hex'], 16)))\n",
    "data.head()"
   ]
  },
  {
   "cell_type": "code",
   "execution_count": 180,
   "metadata": {},
   "outputs": [
    {
     "data": {
      "text/plain": [
       "<seaborn.axisgrid.FacetGrid at 0x7fc354099c90>"
      ]
     },
     "execution_count": 180,
     "metadata": {},
     "output_type": "execute_result"
    },
    {
     "data": {
      "image/png": "[encoded data removed]",
      "text/plain": [
       "<Figure size 360x360 with 1 Axes>"
      ]
     },
     "metadata": {
      "needs_background": "light"
     },
     "output_type": "display_data"
    }
   ],
   "source": [
    "sns.displot(data, x='time', y='function')"
   ]
  },
  {
   "cell_type": "code",
   "execution_count": 181,
   "metadata": {},
   "outputs": [
    {
     "data": {
      "text/plain": [
       "<seaborn.axisgrid.FacetGrid at 0x7fc34476c950>"
      ]
     },
     "execution_count": 181,
     "metadata": {},
     "output_type": "execute_result"
    },
    {
     "data": {
      "image/png": "[encoded data removed]",
      "text/plain": [
       "<Figure size 360x360 with 1 Axes>"
      ]
     },
     "metadata": {
      "needs_background": "light"
     },
     "output_type": "display_data"
    }
   ],
   "source": [
    "sns.displot(data, x='logGasUsed', y='function')"
   ]
  },
  {
   "cell_type": "markdown",
   "metadata": {},
   "source": [
    "#### Dig into particular functions"
   ]
  },
  {
   "cell_type": "markdown",
   "metadata": {},
   "source": [
    "##### InvadePlanet"
   ]
  },
  {
   "cell_type": "code",
   "execution_count": 182,
   "metadata": {},
   "outputs": [
    {
     "data": {
      "text/plain": [
       "Int64Index([    22,     50,     66,     76,    108,    200,    233,    241,\n",
       "               257,    258,\n",
       "            ...\n",
       "            111532, 111541, 111544, 111546, 111548, 111555, 111556, 111560,\n",
       "            111577, 111595],\n",
       "           dtype='int64', length=13119)"
      ]
     },
     "execution_count": 182,
     "metadata": {},
     "output_type": "execute_result"
    }
   ],
   "source": [
    "function_data = data.groupby(['function'])\n",
    "function_data.groups['invadePlanet']"
   ]
  },
  {
   "cell_type": "code",
   "execution_count": 183,
   "metadata": {},
   "outputs": [
    {
     "data": {
      "text/plain": [
       "\"[{'name': 'locationId', 'value': '1674809352642917233520933511735429998308879001441638462473554625862229818', 'type': 'uint256'}]\""
      ]
     },
     "execution_count": 183,
     "metadata": {},
     "output_type": "execute_result"
    }
   ],
   "source": [
    "data.iloc[6]['params']"
   ]
  },
  {
   "cell_type": "code",
   "execution_count": 184,
   "metadata": {},
   "outputs": [
    {
     "data": {
      "text/html": [
       "<div>\n",
       "<style scoped>\n",
       "    .dataframe tbody tr th:only-of-type {\n",
       "        vertical-align: middle;\n",
       "    }\n",
       "\n",
       "    .dataframe tbody tr th {\n",
       "        vertical-align: top;\n",
       "    }\n",
       "\n",
       "    .dataframe thead th {\n",
       "        text-align: right;\n",
       "    }\n",
       "</style>\n",
       "<table border=\"1\" class=\"dataframe\">\n",
       "  <thead>\n",
       "    <tr style=\"text-align: right;\">\n",
       "      <th></th>\n",
       "      <th>Unnamed: 0</th>\n",
       "      <th>to</th>\n",
       "      <th>from</th>\n",
       "      <th>function</th>\n",
       "      <th>time</th>\n",
       "      <th>params</th>\n",
       "      <th>blockNumber</th>\n",
       "      <th>type</th>\n",
       "      <th>value</th>\n",
       "      <th>gasPrice</th>\n",
       "      <th>gasUsed</th>\n",
       "      <th>datetime</th>\n",
       "      <th>date</th>\n",
       "      <th>strDate</th>\n",
       "      <th>sum_col</th>\n",
       "      <th>logGasUsed</th>\n",
       "    </tr>\n",
       "  </thead>\n",
       "  <tbody>\n",
       "    <tr>\n",
       "      <th>22</th>\n",
       "      <td>13343</td>\n",
       "      <td>0x06078143f81BaFCB7B5dF588bf2E8247dC8702bE</td>\n",
       "      <td>0xaba4dB2891dEF3501A953c0F2C549Eaf9B36B1f2</td>\n",
       "      <td>invadePlanet</td>\n",
       "      <td>1648978275</td>\n",
       "      <td>[{'name': '_a', 'value': ['1834961325993301385...</td>\n",
       "      <td>21443584</td>\n",
       "      <td>2</td>\n",
       "      <td>{'type': 'BigNumber', 'hex': '0x00'}</td>\n",
       "      <td>20.836595</td>\n",
       "      <td>{'type': 'BigNumber', 'hex': '0x738f9d'}</td>\n",
       "      <td>2022-04-03 17:31:15</td>\n",
       "      <td>2022-04-03</td>\n",
       "      <td>2022-04-03</td>\n",
       "      <td>1</td>\n",
       "      <td>15.840153</td>\n",
       "    </tr>\n",
       "    <tr>\n",
       "      <th>50</th>\n",
       "      <td>13315</td>\n",
       "      <td>0x06078143f81BaFCB7B5dF588bf2E8247dC8702bE</td>\n",
       "      <td>0xaba4dB2891dEF3501A953c0F2C549Eaf9B36B1f2</td>\n",
       "      <td>invadePlanet</td>\n",
       "      <td>1648978310</td>\n",
       "      <td>[{'name': '_a', 'value': ['1942163611263167990...</td>\n",
       "      <td>21443591</td>\n",
       "      <td>2</td>\n",
       "      <td>{'type': 'BigNumber', 'hex': '0x00'}</td>\n",
       "      <td>20.836595</td>\n",
       "      <td>{'type': 'BigNumber', 'hex': '0x2a58b9'}</td>\n",
       "      <td>2022-04-03 17:31:50</td>\n",
       "      <td>2022-04-03</td>\n",
       "      <td>2022-04-03</td>\n",
       "      <td>1</td>\n",
       "      <td>14.836242</td>\n",
       "    </tr>\n",
       "    <tr>\n",
       "      <th>66</th>\n",
       "      <td>13299</td>\n",
       "      <td>0x06078143f81BaFCB7B5dF588bf2E8247dC8702bE</td>\n",
       "      <td>0x077C179c789028D16Bd404bEf984630a785B8ace</td>\n",
       "      <td>invadePlanet</td>\n",
       "      <td>1648978335</td>\n",
       "      <td>[{'name': '_a', 'value': ['2806755118063258036...</td>\n",
       "      <td>21443596</td>\n",
       "      <td>2</td>\n",
       "      <td>{'type': 'BigNumber', 'hex': '0x00'}</td>\n",
       "      <td>21.416413</td>\n",
       "      <td>{'type': 'BigNumber', 'hex': '0x5aa5bf'}</td>\n",
       "      <td>2022-04-03 17:32:15</td>\n",
       "      <td>2022-04-03</td>\n",
       "      <td>2022-04-03</td>\n",
       "      <td>1</td>\n",
       "      <td>15.597333</td>\n",
       "    </tr>\n",
       "    <tr>\n",
       "      <th>76</th>\n",
       "      <td>13289</td>\n",
       "      <td>0x06078143f81BaFCB7B5dF588bf2E8247dC8702bE</td>\n",
       "      <td>0xaba4dB2891dEF3501A953c0F2C549Eaf9B36B1f2</td>\n",
       "      <td>invadePlanet</td>\n",
       "      <td>1648978350</td>\n",
       "      <td>[{'name': '_a', 'value': ['7807216371180820118...</td>\n",
       "      <td>21443599</td>\n",
       "      <td>2</td>\n",
       "      <td>{'type': 'BigNumber', 'hex': '0x00'}</td>\n",
       "      <td>20.836595</td>\n",
       "      <td>{'type': 'BigNumber', 'hex': '0x6fe34d'}</td>\n",
       "      <td>2022-04-03 17:32:30</td>\n",
       "      <td>2022-04-03</td>\n",
       "      <td>2022-04-03</td>\n",
       "      <td>1</td>\n",
       "      <td>15.807852</td>\n",
       "    </tr>\n",
       "    <tr>\n",
       "      <th>108</th>\n",
       "      <td>13257</td>\n",
       "      <td>0x06078143f81BaFCB7B5dF588bf2E8247dC8702bE</td>\n",
       "      <td>0x077C179c789028D16Bd404bEf984630a785B8ace</td>\n",
       "      <td>invadePlanet</td>\n",
       "      <td>1648978390</td>\n",
       "      <td>[{'name': '_a', 'value': ['9597373111874719536...</td>\n",
       "      <td>21443607</td>\n",
       "      <td>2</td>\n",
       "      <td>{'type': 'BigNumber', 'hex': '0x00'}</td>\n",
       "      <td>21.416413</td>\n",
       "      <td>{'type': 'BigNumber', 'hex': '0x46438e'}</td>\n",
       "      <td>2022-04-03 17:33:10</td>\n",
       "      <td>2022-04-03</td>\n",
       "      <td>2022-04-03</td>\n",
       "      <td>1</td>\n",
       "      <td>15.342613</td>\n",
       "    </tr>\n",
       "  </tbody>\n",
       "</table>\n",
       "</div>"
      ],
      "text/plain": [
       "     Unnamed: 0                                          to  \\\n",
       "22        13343  0x06078143f81BaFCB7B5dF588bf2E8247dC8702bE   \n",
       "50        13315  0x06078143f81BaFCB7B5dF588bf2E8247dC8702bE   \n",
       "66        13299  0x06078143f81BaFCB7B5dF588bf2E8247dC8702bE   \n",
       "76        13289  0x06078143f81BaFCB7B5dF588bf2E8247dC8702bE   \n",
       "108       13257  0x06078143f81BaFCB7B5dF588bf2E8247dC8702bE   \n",
       "\n",
       "                                           from      function        time  \\\n",
       "22   0xaba4dB2891dEF3501A953c0F2C549Eaf9B36B1f2  invadePlanet  1648978275   \n",
       "50   0xaba4dB2891dEF3501A953c0F2C549Eaf9B36B1f2  invadePlanet  1648978310   \n",
       "66   0x077C179c789028D16Bd404bEf984630a785B8ace  invadePlanet  1648978335   \n",
       "76   0xaba4dB2891dEF3501A953c0F2C549Eaf9B36B1f2  invadePlanet  1648978350   \n",
       "108  0x077C179c789028D16Bd404bEf984630a785B8ace  invadePlanet  1648978390   \n",
       "\n",
       "                                                params  blockNumber  type  \\\n",
       "22   [{'name': '_a', 'value': ['1834961325993301385...     21443584     2   \n",
       "50   [{'name': '_a', 'value': ['1942163611263167990...     21443591     2   \n",
       "66   [{'name': '_a', 'value': ['2806755118063258036...     21443596     2   \n",
       "76   [{'name': '_a', 'value': ['7807216371180820118...     21443599     2   \n",
       "108  [{'name': '_a', 'value': ['9597373111874719536...     21443607     2   \n",
       "\n",
       "                                    value   gasPrice  \\\n",
       "22   {'type': 'BigNumber', 'hex': '0x00'}  20.836595   \n",
       "50   {'type': 'BigNumber', 'hex': '0x00'}  20.836595   \n",
       "66   {'type': 'BigNumber', 'hex': '0x00'}  21.416413   \n",
       "76   {'type': 'BigNumber', 'hex': '0x00'}  20.836595   \n",
       "108  {'type': 'BigNumber', 'hex': '0x00'}  21.416413   \n",
       "\n",
       "                                      gasUsed            datetime        date  \\\n",
       "22   {'type': 'BigNumber', 'hex': '0x738f9d'} 2022-04-03 17:31:15  2022-04-03   \n",
       "50   {'type': 'BigNumber', 'hex': '0x2a58b9'} 2022-04-03 17:31:50  2022-04-03   \n",
       "66   {'type': 'BigNumber', 'hex': '0x5aa5bf'} 2022-04-03 17:32:15  2022-04-03   \n",
       "76   {'type': 'BigNumber', 'hex': '0x6fe34d'} 2022-04-03 17:32:30  2022-04-03   \n",
       "108  {'type': 'BigNumber', 'hex': '0x46438e'} 2022-04-03 17:33:10  2022-04-03   \n",
       "\n",
       "        strDate  sum_col  logGasUsed  \n",
       "22   2022-04-03        1   15.840153  \n",
       "50   2022-04-03        1   14.836242  \n",
       "66   2022-04-03        1   15.597333  \n",
       "76   2022-04-03        1   15.807852  \n",
       "108  2022-04-03        1   15.342613  "
      ]
     },
     "execution_count": 184,
     "metadata": {},
     "output_type": "execute_result"
    }
   ],
   "source": [
    "invadePlanetData = data.iloc[function_data.groups['invadePlanet']]\n",
    "invadePlanetData.head()"
   ]
  },
  {
   "cell_type": "markdown",
   "metadata": {},
   "source": [
    "There is no obvious relationship between \"gasUsed\" and \"time\" for function \"invadePlanet\""
   ]
  },
  {
   "cell_type": "code",
   "execution_count": 196,
   "metadata": {},
   "outputs": [
    {
     "data": {
      "text/plain": [
       "<seaborn.axisgrid.FacetGrid at 0x7fc34cd6b550>"
      ]
     },
     "execution_count": 196,
     "metadata": {},
     "output_type": "execute_result"
    },
    {
     "data": {
      "image/png": "[encoded data removed]",
      "text/plain": [
       "<Figure size 360x360 with 1 Axes>"
      ]
     },
     "metadata": {
      "needs_background": "light"
     },
     "output_type": "display_data"
    }
   ],
   "source": [
    "sns.displot(x='time', y='logGasUsed', data=invadePlanetData)"
   ]
  },
  {
   "cell_type": "markdown",
   "metadata": {},
   "source": [
    "##### WithdrawSilver"
   ]
  },
  {
   "cell_type": "code",
   "execution_count": 186,
   "metadata": {},
   "outputs": [
    {
     "name": "stderr",
     "output_type": "stream",
     "text": [
      "/Users/lele/.conda/envs/pysimpleblockchain-master/lib/python3.7/site-packages/ipykernel_launcher.py:3: SettingWithCopyWarning: \n",
      "A value is trying to be set on a copy of a slice from a DataFrame.\n",
      "Try using .loc[row_indexer,col_indexer] = value instead\n",
      "\n",
      "See the caveats in the documentation: https://pandas.pydata.org/pandas-docs/stable/user_guide/indexing.html#returning-a-view-versus-a-copy\n",
      "  This is separate from the ipykernel package so we can avoid doing imports until\n"
     ]
    },
    {
     "data": {
      "text/html": [
       "<div>\n",
       "<style scoped>\n",
       "    .dataframe tbody tr th:only-of-type {\n",
       "        vertical-align: middle;\n",
       "    }\n",
       "\n",
       "    .dataframe tbody tr th {\n",
       "        vertical-align: top;\n",
       "    }\n",
       "\n",
       "    .dataframe thead th {\n",
       "        text-align: right;\n",
       "    }\n",
       "</style>\n",
       "<table border=\"1\" class=\"dataframe\">\n",
       "  <thead>\n",
       "    <tr style=\"text-align: right;\">\n",
       "      <th></th>\n",
       "      <th>Unnamed: 0</th>\n",
       "      <th>to</th>\n",
       "      <th>from</th>\n",
       "      <th>function</th>\n",
       "      <th>time</th>\n",
       "      <th>params</th>\n",
       "      <th>blockNumber</th>\n",
       "      <th>type</th>\n",
       "      <th>value</th>\n",
       "      <th>gasPrice</th>\n",
       "      <th>gasUsed</th>\n",
       "      <th>datetime</th>\n",
       "      <th>date</th>\n",
       "      <th>strDate</th>\n",
       "      <th>sum_col</th>\n",
       "      <th>logGasUsed</th>\n",
       "    </tr>\n",
       "  </thead>\n",
       "  <tbody>\n",
       "    <tr>\n",
       "      <th>146</th>\n",
       "      <td>13219</td>\n",
       "      <td>0x06078143f81BaFCB7B5dF588bf2E8247dC8702bE</td>\n",
       "      <td>0xc3d2C4b27dd33509Cfb92Ade754758960198e87f</td>\n",
       "      <td>withdrawSilver</td>\n",
       "      <td>1648978430</td>\n",
       "      <td>17.219305</td>\n",
       "      <td>21443615</td>\n",
       "      <td>2</td>\n",
       "      <td>{'type': 'BigNumber', 'hex': '0x00'}</td>\n",
       "      <td>20.836595</td>\n",
       "      <td>{'type': 'BigNumber', 'hex': '0x4bfb82'}</td>\n",
       "      <td>2022-04-03 17:33:50</td>\n",
       "      <td>2022-04-03</td>\n",
       "      <td>2022-04-03</td>\n",
       "      <td>1</td>\n",
       "      <td>15.420857</td>\n",
       "    </tr>\n",
       "    <tr>\n",
       "      <th>207</th>\n",
       "      <td>13158</td>\n",
       "      <td>0x06078143f81BaFCB7B5dF588bf2E8247dC8702bE</td>\n",
       "      <td>0xc3d2C4b27dd33509Cfb92Ade754758960198e87f</td>\n",
       "      <td>withdrawSilver</td>\n",
       "      <td>1648978500</td>\n",
       "      <td>17.399029</td>\n",
       "      <td>21443629</td>\n",
       "      <td>2</td>\n",
       "      <td>{'type': 'BigNumber', 'hex': '0x00'}</td>\n",
       "      <td>20.836595</td>\n",
       "      <td>{'type': 'BigNumber', 'hex': '0x2d2f6a'}</td>\n",
       "      <td>2022-04-03 17:35:00</td>\n",
       "      <td>2022-04-03</td>\n",
       "      <td>2022-04-03</td>\n",
       "      <td>1</td>\n",
       "      <td>14.901125</td>\n",
       "    </tr>\n",
       "    <tr>\n",
       "      <th>209</th>\n",
       "      <td>13156</td>\n",
       "      <td>0x06078143f81BaFCB7B5dF588bf2E8247dC8702bE</td>\n",
       "      <td>0xc3d2C4b27dd33509Cfb92Ade754758960198e87f</td>\n",
       "      <td>withdrawSilver</td>\n",
       "      <td>1648978505</td>\n",
       "      <td>17.395886</td>\n",
       "      <td>21443630</td>\n",
       "      <td>2</td>\n",
       "      <td>{'type': 'BigNumber', 'hex': '0x00'}</td>\n",
       "      <td>20.836595</td>\n",
       "      <td>{'type': 'BigNumber', 'hex': '0x363ff4'}</td>\n",
       "      <td>2022-04-03 17:35:05</td>\n",
       "      <td>2022-04-03</td>\n",
       "      <td>2022-04-03</td>\n",
       "      <td>1</td>\n",
       "      <td>15.083955</td>\n",
       "    </tr>\n",
       "    <tr>\n",
       "      <th>854</th>\n",
       "      <td>12511</td>\n",
       "      <td>0x06078143f81BaFCB7B5dF588bf2E8247dC8702bE</td>\n",
       "      <td>0xB5fecBaB5090Ff659EB86Cb05F8f84598792dF29</td>\n",
       "      <td>withdrawSilver</td>\n",
       "      <td>1648979550</td>\n",
       "      <td>12.994530</td>\n",
       "      <td>21443837</td>\n",
       "      <td>2</td>\n",
       "      <td>{'type': 'BigNumber', 'hex': '0x00'}</td>\n",
       "      <td>20.836595</td>\n",
       "      <td>{'type': 'BigNumber', 'hex': '0x527d82'}</td>\n",
       "      <td>2022-04-03 17:52:30</td>\n",
       "      <td>2022-04-03</td>\n",
       "      <td>2022-04-03</td>\n",
       "      <td>1</td>\n",
       "      <td>15.503035</td>\n",
       "    </tr>\n",
       "    <tr>\n",
       "      <th>936</th>\n",
       "      <td>12429</td>\n",
       "      <td>0x06078143f81BaFCB7B5dF588bf2E8247dC8702bE</td>\n",
       "      <td>0x2FE52E4678b864170992D42D2Bbb4dd200944750</td>\n",
       "      <td>withdrawSilver</td>\n",
       "      <td>1648979660</td>\n",
       "      <td>17.034386</td>\n",
       "      <td>21443859</td>\n",
       "      <td>2</td>\n",
       "      <td>{'type': 'BigNumber', 'hex': '0x00'}</td>\n",
       "      <td>20.836595</td>\n",
       "      <td>{'type': 'BigNumber', 'hex': '0x8155cb'}</td>\n",
       "      <td>2022-04-03 17:54:20</td>\n",
       "      <td>2022-04-03</td>\n",
       "      <td>2022-04-03</td>\n",
       "      <td>1</td>\n",
       "      <td>15.952762</td>\n",
       "    </tr>\n",
       "  </tbody>\n",
       "</table>\n",
       "</div>"
      ],
      "text/plain": [
       "     Unnamed: 0                                          to  \\\n",
       "146       13219  0x06078143f81BaFCB7B5dF588bf2E8247dC8702bE   \n",
       "207       13158  0x06078143f81BaFCB7B5dF588bf2E8247dC8702bE   \n",
       "209       13156  0x06078143f81BaFCB7B5dF588bf2E8247dC8702bE   \n",
       "854       12511  0x06078143f81BaFCB7B5dF588bf2E8247dC8702bE   \n",
       "936       12429  0x06078143f81BaFCB7B5dF588bf2E8247dC8702bE   \n",
       "\n",
       "                                           from        function        time  \\\n",
       "146  0xc3d2C4b27dd33509Cfb92Ade754758960198e87f  withdrawSilver  1648978430   \n",
       "207  0xc3d2C4b27dd33509Cfb92Ade754758960198e87f  withdrawSilver  1648978500   \n",
       "209  0xc3d2C4b27dd33509Cfb92Ade754758960198e87f  withdrawSilver  1648978505   \n",
       "854  0xB5fecBaB5090Ff659EB86Cb05F8f84598792dF29  withdrawSilver  1648979550   \n",
       "936  0x2FE52E4678b864170992D42D2Bbb4dd200944750  withdrawSilver  1648979660   \n",
       "\n",
       "        params  blockNumber  type                                 value  \\\n",
       "146  17.219305     21443615     2  {'type': 'BigNumber', 'hex': '0x00'}   \n",
       "207  17.399029     21443629     2  {'type': 'BigNumber', 'hex': '0x00'}   \n",
       "209  17.395886     21443630     2  {'type': 'BigNumber', 'hex': '0x00'}   \n",
       "854  12.994530     21443837     2  {'type': 'BigNumber', 'hex': '0x00'}   \n",
       "936  17.034386     21443859     2  {'type': 'BigNumber', 'hex': '0x00'}   \n",
       "\n",
       "      gasPrice                                   gasUsed            datetime  \\\n",
       "146  20.836595  {'type': 'BigNumber', 'hex': '0x4bfb82'} 2022-04-03 17:33:50   \n",
       "207  20.836595  {'type': 'BigNumber', 'hex': '0x2d2f6a'} 2022-04-03 17:35:00   \n",
       "209  20.836595  {'type': 'BigNumber', 'hex': '0x363ff4'} 2022-04-03 17:35:05   \n",
       "854  20.836595  {'type': 'BigNumber', 'hex': '0x527d82'} 2022-04-03 17:52:30   \n",
       "936  20.836595  {'type': 'BigNumber', 'hex': '0x8155cb'} 2022-04-03 17:54:20   \n",
       "\n",
       "           date     strDate  sum_col  logGasUsed  \n",
       "146  2022-04-03  2022-04-03        1   15.420857  \n",
       "207  2022-04-03  2022-04-03        1   14.901125  \n",
       "209  2022-04-03  2022-04-03        1   15.083955  \n",
       "854  2022-04-03  2022-04-03        1   15.503035  \n",
       "936  2022-04-03  2022-04-03        1   15.952762  "
      ]
     },
     "execution_count": 186,
     "metadata": {},
     "output_type": "execute_result"
    }
   ],
   "source": [
    "function_data = data.groupby(['function'])\n",
    "withdrawSilverData = data.iloc[function_data.groups['withdrawSilver']]\n",
    "withdrawSilverData['params'] = withdrawSilverData['params'].map(lambda x: np.log(float(eval(x)[1]['value'])))\n",
    "withdrawSilverData.head()"
   ]
  },
  {
   "cell_type": "code",
   "execution_count": 187,
   "metadata": {},
   "outputs": [
    {
     "data": {
      "text/plain": [
       "17.219304565473696"
      ]
     },
     "execution_count": 187,
     "metadata": {},
     "output_type": "execute_result"
    }
   ],
   "source": [
    "withdrawSilverData.iloc[0].params"
   ]
  },
  {
   "cell_type": "code",
   "execution_count": 197,
   "metadata": {},
   "outputs": [
    {
     "data": {
      "text/plain": [
       "<seaborn.axisgrid.FacetGrid at 0x7fc34e0a0410>"
      ]
     },
     "execution_count": 197,
     "metadata": {},
     "output_type": "execute_result"
    },
    {
     "data": {
      "image/png": "[encoded data removed]",
      "text/plain": [
       "<Figure size 360x360 with 1 Axes>"
      ]
     },
     "metadata": {
      "needs_background": "light"
     },
     "output_type": "display_data"
    }
   ],
   "source": [
    "sns.displot(x='time', y='params', data=withdrawSilverData)"
   ]
  },
  {
   "cell_type": "code",
   "execution_count": 198,
   "metadata": {},
   "outputs": [
    {
     "data": {
      "text/plain": [
       "<seaborn.axisgrid.FacetGrid at 0x7fc34cd7acd0>"
      ]
     },
     "execution_count": 198,
     "metadata": {},
     "output_type": "execute_result"
    },
    {
     "data": {
      "image/png": "[encoded data removed]",
      "text/plain": [
       "<Figure size 360x360 with 1 Axes>"
      ]
     },
     "metadata": {
      "needs_background": "light"
     },
     "output_type": "display_data"
    }
   ],
   "source": [
    "sns.displot(x='logGasUsed', y='params', data=withdrawSilverData)"
   ]
  },
  {
   "cell_type": "code",
   "execution_count": 200,
   "metadata": {},
   "outputs": [
    {
     "data": {
      "text/plain": [
       "<AxesSubplot:xlabel='gasPrice', ylabel='params'>"
      ]
     },
     "execution_count": 200,
     "metadata": {},
     "output_type": "execute_result"
    },
    {
     "data": {
      "image/png": "[encoded data removed]",
      "text/plain": [
       "<Figure size 432x288 with 1 Axes>"
      ]
     },
     "metadata": {
      "needs_background": "light"
     },
     "output_type": "display_data"
    }
   ],
   "source": [
    "sns.regplot(x='gasPrice', y='params', data=withdrawSilverData)"
   ]
  },
  {
   "cell_type": "code",
   "execution_count": 191,
   "metadata": {},
   "outputs": [
    {
     "data": {
      "text/plain": [
       "<AxesSubplot:xlabel='time', ylabel='logGasUsed'>"
      ]
     },
     "execution_count": 191,
     "metadata": {},
     "output_type": "execute_result"
    },
    {
     "data": {
      "image/png": "[encoded data removed]",
      "text/plain": [
       "<Figure size 432x288 with 1 Axes>"
      ]
     },
     "metadata": {
      "needs_background": "light"
     },
     "output_type": "display_data"
    }
   ],
   "source": [
    "sns.regplot(x='time', y='logGasUsed', data=withdrawSilverData)"
   ]
  },
  {
   "cell_type": "code",
   "execution_count": 192,
   "metadata": {},
   "outputs": [
    {
     "data": {
      "text/plain": [
       "<AxesSubplot:xlabel='time', ylabel='gasPrice'>"
      ]
     },
     "execution_count": 192,
     "metadata": {},
     "output_type": "execute_result"
    },
    {
     "data": {
      "image/png": "[encoded data removed]",
      "text/plain": [
       "<Figure size 432x288 with 1 Axes>"
      ]
     },
     "metadata": {
      "needs_background": "light"
     },
     "output_type": "display_data"
    }
   ],
   "source": [
    "sns.regplot(x='time', y='gasPrice', data=withdrawSilverData)"
   ]
  },
  {
   "cell_type": "markdown",
   "metadata": {},
   "source": [
    "##### Move"
   ]
  },
  {
   "cell_type": "code",
   "execution_count": 210,
   "metadata": {},
   "outputs": [
    {
     "data": {
      "text/plain": [
       "['1390702905100683392913166404038888559894555589952795984707048025649747838',\n",
       " '592525754479673745979393501974750715624677661478603161502430775886758301',\n",
       " '17',\n",
       " '150000',\n",
       " '2421',\n",
       " '115',\n",
       " '116',\n",
       " '16384',\n",
       " '0',\n",
       " '0',\n",
       " '0',\n",
       " '0',\n",
       " '0',\n",
       " '1']"
      ]
     },
     "execution_count": 210,
     "metadata": {},
     "output_type": "execute_result"
    }
   ],
   "source": [
    "moveData = data.iloc[function_data.groups['move']]\n",
    "eval(moveData.iloc[0]['params'])[3]['value']"
   ]
  },
  {
   "cell_type": "markdown",
   "metadata": {},
   "source": [
    "maxDist: _input[4], popMoved: _input[10],\n",
    "\n",
    "silverMoved: _input[11], movedArtifactId: _input[12],"
   ]
  },
  {
   "cell_type": "code",
   "execution_count": 212,
   "metadata": {},
   "outputs": [
    {
     "name": "stderr",
     "output_type": "stream",
     "text": [
      "/Users/lele/.conda/envs/pysimpleblockchain-master/lib/python3.7/site-packages/ipykernel_launcher.py:1: SettingWithCopyWarning: \n",
      "A value is trying to be set on a copy of a slice from a DataFrame.\n",
      "Try using .loc[row_indexer,col_indexer] = value instead\n",
      "\n",
      "See the caveats in the documentation: https://pandas.pydata.org/pandas-docs/stable/user_guide/indexing.html#returning-a-view-versus-a-copy\n",
      "  \"\"\"Entry point for launching an IPython kernel.\n",
      "/Users/lele/.conda/envs/pysimpleblockchain-master/lib/python3.7/site-packages/ipykernel_launcher.py:2: SettingWithCopyWarning: \n",
      "A value is trying to be set on a copy of a slice from a DataFrame.\n",
      "Try using .loc[row_indexer,col_indexer] = value instead\n",
      "\n",
      "See the caveats in the documentation: https://pandas.pydata.org/pandas-docs/stable/user_guide/indexing.html#returning-a-view-versus-a-copy\n",
      "  \n",
      "/Users/lele/.conda/envs/pysimpleblockchain-master/lib/python3.7/site-packages/ipykernel_launcher.py:3: SettingWithCopyWarning: \n",
      "A value is trying to be set on a copy of a slice from a DataFrame.\n",
      "Try using .loc[row_indexer,col_indexer] = value instead\n",
      "\n",
      "See the caveats in the documentation: https://pandas.pydata.org/pandas-docs/stable/user_guide/indexing.html#returning-a-view-versus-a-copy\n",
      "  This is separate from the ipykernel package so we can avoid doing imports until\n",
      "/Users/lele/.conda/envs/pysimpleblockchain-master/lib/python3.7/site-packages/ipykernel_launcher.py:4: SettingWithCopyWarning: \n",
      "A value is trying to be set on a copy of a slice from a DataFrame.\n",
      "Try using .loc[row_indexer,col_indexer] = value instead\n",
      "\n",
      "See the caveats in the documentation: https://pandas.pydata.org/pandas-docs/stable/user_guide/indexing.html#returning-a-view-versus-a-copy\n",
      "  after removing the cwd from sys.path.\n"
     ]
    },
    {
     "data": {
      "text/html": [
       "<div>\n",
       "<style scoped>\n",
       "    .dataframe tbody tr th:only-of-type {\n",
       "        vertical-align: middle;\n",
       "    }\n",
       "\n",
       "    .dataframe tbody tr th {\n",
       "        vertical-align: top;\n",
       "    }\n",
       "\n",
       "    .dataframe thead th {\n",
       "        text-align: right;\n",
       "    }\n",
       "</style>\n",
       "<table border=\"1\" class=\"dataframe\">\n",
       "  <thead>\n",
       "    <tr style=\"text-align: right;\">\n",
       "      <th></th>\n",
       "      <th>Unnamed: 0</th>\n",
       "      <th>to</th>\n",
       "      <th>from</th>\n",
       "      <th>function</th>\n",
       "      <th>time</th>\n",
       "      <th>params</th>\n",
       "      <th>blockNumber</th>\n",
       "      <th>type</th>\n",
       "      <th>value</th>\n",
       "      <th>gasPrice</th>\n",
       "      <th>gasUsed</th>\n",
       "      <th>datetime</th>\n",
       "      <th>date</th>\n",
       "      <th>strDate</th>\n",
       "      <th>sum_col</th>\n",
       "      <th>logGasUsed</th>\n",
       "      <th>maxDist</th>\n",
       "      <th>popMoved</th>\n",
       "      <th>siverMoved</th>\n",
       "      <th>movedArtifactId</th>\n",
       "    </tr>\n",
       "  </thead>\n",
       "  <tbody>\n",
       "    <tr>\n",
       "      <th>0</th>\n",
       "      <td>13365</td>\n",
       "      <td>0x06078143f81BaFCB7B5dF588bf2E8247dC8702bE</td>\n",
       "      <td>0x19e63Ee48e0df0534818398e68AC4c1Fa68177fB</td>\n",
       "      <td>move</td>\n",
       "      <td>1648978255</td>\n",
       "      <td>[{'name': '_a', 'value': ['1885860697480286020...</td>\n",
       "      <td>21443580</td>\n",
       "      <td>2</td>\n",
       "      <td>{'type': 'BigNumber', 'hex': '0x00'}</td>\n",
       "      <td>20.836595</td>\n",
       "      <td>{'type': 'BigNumber', 'hex': '0x2cba3d'}</td>\n",
       "      <td>2022-04-03 17:30:55</td>\n",
       "      <td>2022-04-03</td>\n",
       "      <td>2022-04-03</td>\n",
       "      <td>1</td>\n",
       "      <td>14.890943</td>\n",
       "      <td>2421</td>\n",
       "      <td>0</td>\n",
       "      <td>0</td>\n",
       "      <td>0</td>\n",
       "    </tr>\n",
       "    <tr>\n",
       "      <th>3</th>\n",
       "      <td>13362</td>\n",
       "      <td>0x06078143f81BaFCB7B5dF588bf2E8247dC8702bE</td>\n",
       "      <td>0x327fC4EA39d465F674eb9Ff597d83f7852C64F6f</td>\n",
       "      <td>move</td>\n",
       "      <td>1648978255</td>\n",
       "      <td>[{'name': '_a', 'value': ['1018818674467944510...</td>\n",
       "      <td>21443580</td>\n",
       "      <td>2</td>\n",
       "      <td>{'type': 'BigNumber', 'hex': '0x00'}</td>\n",
       "      <td>21.821878</td>\n",
       "      <td>{'type': 'BigNumber', 'hex': '0x2cba3d'}</td>\n",
       "      <td>2022-04-03 17:30:55</td>\n",
       "      <td>2022-04-03</td>\n",
       "      <td>2022-04-03</td>\n",
       "      <td>1</td>\n",
       "      <td>14.890943</td>\n",
       "      <td>5013</td>\n",
       "      <td>64052000</td>\n",
       "      <td>0</td>\n",
       "      <td>9248792653013120710768450101795381096727856127...</td>\n",
       "    </tr>\n",
       "    <tr>\n",
       "      <th>4</th>\n",
       "      <td>13361</td>\n",
       "      <td>0x06078143f81BaFCB7B5dF588bf2E8247dC8702bE</td>\n",
       "      <td>0xa7EAbcee5D24B5DAE7fFA7Ca2cE3A981921376e5</td>\n",
       "      <td>move</td>\n",
       "      <td>1648978260</td>\n",
       "      <td>[{'name': '_a', 'value': ['5883542376368819459...</td>\n",
       "      <td>21443581</td>\n",
       "      <td>2</td>\n",
       "      <td>{'type': 'BigNumber', 'hex': '0x00'}</td>\n",
       "      <td>20.836595</td>\n",
       "      <td>{'type': 'BigNumber', 'hex': '0x58cc51'}</td>\n",
       "      <td>2022-04-03 17:31:00</td>\n",
       "      <td>2022-04-03</td>\n",
       "      <td>2022-04-03</td>\n",
       "      <td>1</td>\n",
       "      <td>15.576720</td>\n",
       "      <td>5566</td>\n",
       "      <td>0</td>\n",
       "      <td>0</td>\n",
       "      <td>1032562674469984041852404342541197433848822919...</td>\n",
       "    </tr>\n",
       "    <tr>\n",
       "      <th>5</th>\n",
       "      <td>13360</td>\n",
       "      <td>0x06078143f81BaFCB7B5dF588bf2E8247dC8702bE</td>\n",
       "      <td>0xebCB70563013Ea319001B7de9700e71A4cA50b16</td>\n",
       "      <td>move</td>\n",
       "      <td>1648978260</td>\n",
       "      <td>[{'name': '_a', 'value': ['1377276742811929645...</td>\n",
       "      <td>21443581</td>\n",
       "      <td>2</td>\n",
       "      <td>{'type': 'BigNumber', 'hex': '0x00'}</td>\n",
       "      <td>20.836595</td>\n",
       "      <td>{'type': 'BigNumber', 'hex': '0x58cc51'}</td>\n",
       "      <td>2022-04-03 17:31:00</td>\n",
       "      <td>2022-04-03</td>\n",
       "      <td>2022-04-03</td>\n",
       "      <td>1</td>\n",
       "      <td>15.576720</td>\n",
       "      <td>84</td>\n",
       "      <td>19099000</td>\n",
       "      <td>0</td>\n",
       "      <td>0</td>\n",
       "    </tr>\n",
       "    <tr>\n",
       "      <th>7</th>\n",
       "      <td>13358</td>\n",
       "      <td>0x06078143f81BaFCB7B5dF588bf2E8247dC8702bE</td>\n",
       "      <td>0x19e63Ee48e0df0534818398e68AC4c1Fa68177fB</td>\n",
       "      <td>move</td>\n",
       "      <td>1648978260</td>\n",
       "      <td>[{'name': '_a', 'value': ['1277288636842454051...</td>\n",
       "      <td>21443581</td>\n",
       "      <td>2</td>\n",
       "      <td>{'type': 'BigNumber', 'hex': '0x00'}</td>\n",
       "      <td>20.836595</td>\n",
       "      <td>{'type': 'BigNumber', 'hex': '0x58cc51'}</td>\n",
       "      <td>2022-04-03 17:31:00</td>\n",
       "      <td>2022-04-03</td>\n",
       "      <td>2022-04-03</td>\n",
       "      <td>1</td>\n",
       "      <td>15.576720</td>\n",
       "      <td>511</td>\n",
       "      <td>0</td>\n",
       "      <td>0</td>\n",
       "      <td>0</td>\n",
       "    </tr>\n",
       "  </tbody>\n",
       "</table>\n",
       "</div>"
      ],
      "text/plain": [
       "   Unnamed: 0                                          to  \\\n",
       "0       13365  0x06078143f81BaFCB7B5dF588bf2E8247dC8702bE   \n",
       "3       13362  0x06078143f81BaFCB7B5dF588bf2E8247dC8702bE   \n",
       "4       13361  0x06078143f81BaFCB7B5dF588bf2E8247dC8702bE   \n",
       "5       13360  0x06078143f81BaFCB7B5dF588bf2E8247dC8702bE   \n",
       "7       13358  0x06078143f81BaFCB7B5dF588bf2E8247dC8702bE   \n",
       "\n",
       "                                         from function        time  \\\n",
       "0  0x19e63Ee48e0df0534818398e68AC4c1Fa68177fB     move  1648978255   \n",
       "3  0x327fC4EA39d465F674eb9Ff597d83f7852C64F6f     move  1648978255   \n",
       "4  0xa7EAbcee5D24B5DAE7fFA7Ca2cE3A981921376e5     move  1648978260   \n",
       "5  0xebCB70563013Ea319001B7de9700e71A4cA50b16     move  1648978260   \n",
       "7  0x19e63Ee48e0df0534818398e68AC4c1Fa68177fB     move  1648978260   \n",
       "\n",
       "                                              params  blockNumber  type  \\\n",
       "0  [{'name': '_a', 'value': ['1885860697480286020...     21443580     2   \n",
       "3  [{'name': '_a', 'value': ['1018818674467944510...     21443580     2   \n",
       "4  [{'name': '_a', 'value': ['5883542376368819459...     21443581     2   \n",
       "5  [{'name': '_a', 'value': ['1377276742811929645...     21443581     2   \n",
       "7  [{'name': '_a', 'value': ['1277288636842454051...     21443581     2   \n",
       "\n",
       "                                  value   gasPrice  \\\n",
       "0  {'type': 'BigNumber', 'hex': '0x00'}  20.836595   \n",
       "3  {'type': 'BigNumber', 'hex': '0x00'}  21.821878   \n",
       "4  {'type': 'BigNumber', 'hex': '0x00'}  20.836595   \n",
       "5  {'type': 'BigNumber', 'hex': '0x00'}  20.836595   \n",
       "7  {'type': 'BigNumber', 'hex': '0x00'}  20.836595   \n",
       "\n",
       "                                    gasUsed            datetime        date  \\\n",
       "0  {'type': 'BigNumber', 'hex': '0x2cba3d'} 2022-04-03 17:30:55  2022-04-03   \n",
       "3  {'type': 'BigNumber', 'hex': '0x2cba3d'} 2022-04-03 17:30:55  2022-04-03   \n",
       "4  {'type': 'BigNumber', 'hex': '0x58cc51'} 2022-04-03 17:31:00  2022-04-03   \n",
       "5  {'type': 'BigNumber', 'hex': '0x58cc51'} 2022-04-03 17:31:00  2022-04-03   \n",
       "7  {'type': 'BigNumber', 'hex': '0x58cc51'} 2022-04-03 17:31:00  2022-04-03   \n",
       "\n",
       "      strDate  sum_col  logGasUsed maxDist  popMoved siverMoved  \\\n",
       "0  2022-04-03        1   14.890943    2421         0          0   \n",
       "3  2022-04-03        1   14.890943    5013  64052000          0   \n",
       "4  2022-04-03        1   15.576720    5566         0          0   \n",
       "5  2022-04-03        1   15.576720      84  19099000          0   \n",
       "7  2022-04-03        1   15.576720     511         0          0   \n",
       "\n",
       "                                     movedArtifactId  \n",
       "0                                                  0  \n",
       "3  9248792653013120710768450101795381096727856127...  \n",
       "4  1032562674469984041852404342541197433848822919...  \n",
       "5                                                  0  \n",
       "7                                                  0  "
      ]
     },
     "execution_count": 212,
     "metadata": {},
     "output_type": "execute_result"
    }
   ],
   "source": [
    "moveData['maxDist'] = moveData['params'].map(lambda x: eval(x)[3]['value'][4])\n",
    "moveData['popMoved'] = moveData['params'].map(lambda x: eval(x)[3]['value'][10])\n",
    "moveData['siverMoved'] = moveData['params'].map(lambda x: eval(x)[3]['value'][11])\n",
    "moveData['movedArtifactId'] = moveData['params'].map(lambda x: eval(x)[3]['value'][12])\n",
    "moveData.head()"
   ]
  },
  {
   "cell_type": "code",
   "execution_count": null,
   "metadata": {},
   "outputs": [],
   "source": []
  }
 ],
 "metadata": {
  "interpreter": {
   "hash": "585bb2116a634e4c514fe6e4094de331f8e2e1e01ec10322cb405c02c7580263"
  },
  "kernelspec": {
   "display_name": "Python 3.7.7 64-bit ('pysimpleblockchain-master': conda)",
   "language": "python",
   "name": "python3"
  },
  "language_info": {
   "codemirror_mode": {
    "name": "ipython",
    "version": 3
   },
   "file_extension": ".py",
   "mimetype": "text/x-python",
   "name": "python",
   "nbconvert_exporter": "python",
   "pygments_lexer": "ipython3",
   "version": "3.7.7"
  },
  "orig_nbformat": 4
 },
 "nbformat": 4,
 "nbformat_minor": 2
}
